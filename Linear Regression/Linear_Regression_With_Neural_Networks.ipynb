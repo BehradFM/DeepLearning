{
 "cells": [
  {
   "cell_type": "markdown",
   "id": "b94422c7",
   "metadata": {},
   "source": [
    "# Linear Regression With Neural Networks"
   ]
  },
  {
   "cell_type": "markdown",
   "id": "d255f8aa",
   "metadata": {},
   "source": [
    "## Import"
   ]
  },
  {
   "cell_type": "code",
   "execution_count": 1,
   "id": "a04a25d8",
   "metadata": {},
   "outputs": [],
   "source": [
    "from torch import optim\n",
    "import torch\n",
    "#import torch.nn.functional as F\n",
    "from torch import nn\n",
    "\n",
    "import matplotlib.pyplot as plt\n",
    "import pandas as pd"
   ]
  },
  {
   "cell_type": "markdown",
   "id": "a9bd21ca",
   "metadata": {},
   "source": [
    "## Load and Prepare Data "
   ]
  },
  {
   "cell_type": "code",
   "execution_count": 2,
   "id": "51c53cd6",
   "metadata": {},
   "outputs": [
    {
     "data": {
      "text/html": [
       "<div>\n",
       "<style scoped>\n",
       "    .dataframe tbody tr th:only-of-type {\n",
       "        vertical-align: middle;\n",
       "    }\n",
       "\n",
       "    .dataframe tbody tr th {\n",
       "        vertical-align: top;\n",
       "    }\n",
       "\n",
       "    .dataframe thead th {\n",
       "        text-align: right;\n",
       "    }\n",
       "</style>\n",
       "<table border=\"1\" class=\"dataframe\">\n",
       "  <thead>\n",
       "    <tr style=\"text-align: right;\">\n",
       "      <th></th>\n",
       "      <th>Unnamed: 0</th>\n",
       "      <th>x</th>\n",
       "      <th>y</th>\n",
       "    </tr>\n",
       "  </thead>\n",
       "  <tbody>\n",
       "    <tr>\n",
       "      <th>0</th>\n",
       "      <td>0</td>\n",
       "      <td>0.771270</td>\n",
       "      <td>2.474538</td>\n",
       "    </tr>\n",
       "    <tr>\n",
       "      <th>1</th>\n",
       "      <td>1</td>\n",
       "      <td>0.063558</td>\n",
       "      <td>1.192772</td>\n",
       "    </tr>\n",
       "    <tr>\n",
       "      <th>2</th>\n",
       "      <td>2</td>\n",
       "      <td>0.863103</td>\n",
       "      <td>2.912784</td>\n",
       "    </tr>\n",
       "    <tr>\n",
       "      <th>3</th>\n",
       "      <td>3</td>\n",
       "      <td>0.025419</td>\n",
       "      <td>1.078507</td>\n",
       "    </tr>\n",
       "    <tr>\n",
       "      <th>4</th>\n",
       "      <td>4</td>\n",
       "      <td>0.731994</td>\n",
       "      <td>2.473164</td>\n",
       "    </tr>\n",
       "  </tbody>\n",
       "</table>\n",
       "</div>"
      ],
      "text/plain": [
       "   Unnamed: 0         x         y\n",
       "0           0  0.771270  2.474538\n",
       "1           1  0.063558  1.192772\n",
       "2           2  0.863103  2.912784\n",
       "3           3  0.025419  1.078507\n",
       "4           4  0.731994  2.473164"
      ]
     },
     "execution_count": 2,
     "metadata": {},
     "output_type": "execute_result"
    }
   ],
   "source": [
    "df_train = pd.read_csv(\"Data/train.csv\")\n",
    "df_test = pd.read_csv(\"Data/test.csv\")\n",
    "\n",
    "df_train.head()"
   ]
  },
  {
   "cell_type": "code",
   "execution_count": 3,
   "id": "ddb78103",
   "metadata": {},
   "outputs": [],
   "source": [
    "x_train = torch.tensor(df_train['x'].values, dtype=torch.float32).unsqueeze(1)\n",
    "y_train = torch.tensor(df_train['y'].values, dtype=torch.float32)\n",
    "\n",
    "x_test = torch.FloatTensor(df_test['x'].values).unsqueeze(1)\n",
    "y_test = torch.FloatTensor(df_test['y'].values)"
   ]
  },
  {
   "cell_type": "markdown",
   "id": "3aa8b7cf",
   "metadata": {},
   "source": [
    "## Visualize Data"
   ]
  },
  {
   "cell_type": "code",
   "execution_count": 4,
   "id": "6b618e5a",
   "metadata": {},
   "outputs": [
    {
     "data": {
      "image/png": "[encoded data removed]",
      "text/plain": [
       "<Figure size 640x480 with 1 Axes>"
      ]
     },
     "metadata": {},
     "output_type": "display_data"
    }
   ],
   "source": [
    "plt.scatter(x_train , y_train)\n",
    "plt.scatter(x_test , y_test);"
   ]
  },
  {
   "cell_type": "markdown",
   "id": "8195bb20",
   "metadata": {},
   "source": [
    "## Model"
   ]
  },
  {
   "cell_type": "code",
   "execution_count": 5,
   "id": "d2d240ab",
   "metadata": {},
   "outputs": [],
   "source": [
    "model = nn.Linear(in_features=1 , out_features=1)\n",
    "parameters = model.parameters()\n",
    "loss_function = nn.MSELoss()\n",
    "optimizer = optim.SGD(parameters ,  lr=0.04)"
   ]
  },
  {
   "cell_type": "code",
   "execution_count": 6,
   "id": "74a4ecea",
   "metadata": {},
   "outputs": [
    {
     "name": "stdout",
     "output_type": "stream",
     "text": [
      "weight Parameter containing:\n",
      "tensor([[-0.1660]], requires_grad=True)\n",
      "bias Parameter containing:\n",
      "tensor([0.6879], requires_grad=True)\n"
     ]
    }
   ],
   "source": [
    "for name, param in model.named_parameters():\n",
    "  print(name, param)"
   ]
  },
  {
   "cell_type": "markdown",
   "id": "ef87b68f",
   "metadata": {},
   "source": [
    "##  Train The Model"
   ]
  },
  {
   "cell_type": "code",
   "execution_count": 7,
   "id": "95384e5e",
   "metadata": {},
   "outputs": [
    {
     "name": "stdout",
     "output_type": "stream",
     "text": [
      "epoch: 0  error: 2.242628574371338\n",
      "epoch: 100  error: 0.0767446830868721\n",
      "epoch: 200  error: 0.028485173359513283\n",
      "epoch: 300  error: 0.014126414433121681\n",
      "epoch: 400  error: 0.009854177944362164\n"
     ]
    }
   ],
   "source": [
    "N = 500\n",
    "loss_hist = []\n",
    "\n",
    "for i in range(N):\n",
    "    y_hat = model(x_train)\n",
    "    loss = loss_function(y_hat.squeeze() , y_train)\n",
    "    loss.backward()\n",
    "    optimizer.step()\n",
    "    optimizer.zero_grad()\n",
    "    loss_hist.append(loss.item())\n",
    "    if(i%100 == 0):\n",
    "        print(f\"epoch: {i}  error: {loss.item()}\")\n",
    "    else:\n",
    "        pass\n",
    "    "
   ]
  },
  {
   "cell_type": "markdown",
   "id": "87f9bf15",
   "metadata": {},
   "source": [
    "## Visualizing Regression Line and Training Loss"
   ]
  },
  {
   "cell_type": "code",
   "execution_count": 8,
   "id": "5273acf8",
   "metadata": {},
   "outputs": [],
   "source": [
    "x_visualize = torch.linspace(x_train.min() , x_train.max() , 200).unsqueeze(1)\n",
    "y_visualize = model(x_visualize)"
   ]
  },
  {
   "cell_type": "code",
   "execution_count": 9,
   "id": "ea3dcf85",
   "metadata": {},
   "outputs": [
    {
     "data": {
      "image/png": "[encoded data removed]",
      "text/plain": [
       "<Figure size 640x480 with 1 Axes>"
      ]
     },
     "metadata": {},
     "output_type": "display_data"
    }
   ],
   "source": [
    "plt.scatter(x_train , y_train)\n",
    "plt.plot(x_visualize.detach() , y_visualize.detach() , c='r')\n",
    "plt.scatter(x_test , y_test);"
   ]
  },
  {
   "cell_type": "code",
   "execution_count": 10,
   "id": "401b4a33",
   "metadata": {},
   "outputs": [
    {
     "data": {
      "text/plain": [
       "[<matplotlib.lines.Line2D at 0x1cd1edc2b10>]"
      ]
     },
     "execution_count": 10,
     "metadata": {},
     "output_type": "execute_result"
    },
    {
     "data": {
      "image/png": "[encoded data removed]",
      "text/plain": [
       "<Figure size 640x480 with 1 Axes>"
      ]
     },
     "metadata": {},
     "output_type": "display_data"
    }
   ],
   "source": [
    "plt.plot(range(N) , loss_hist)"
   ]
  },
  {
   "cell_type": "markdown",
   "id": "1c036341",
   "metadata": {},
   "source": [
    "## Testing Model  "
   ]
  },
  {
   "cell_type": "code",
   "execution_count": 11,
   "id": "5ef5ac58",
   "metadata": {},
   "outputs": [
    {
     "name": "stdout",
     "output_type": "stream",
     "text": [
      "R2 score on test set: 0.9627\n",
      "Mae on test set: 0.0737\n"
     ]
    }
   ],
   "source": [
    "from torchmetrics import R2Score\n",
    "y_hat_test = model(x_test)\n",
    "r2 = R2Score()\n",
    "r2_score = r2(y_hat_test.squeeze(), y_test)\n",
    "Mae = nn.L1Loss()\n",
    "Mae = Mae(y_hat_test.squeeze() , y_test)\n",
    "print(f\"R2 score on test set: {r2_score.item():.4f}\")\n",
    "print(f\"Mae on test set: {Mae.item():.4f}\")"
   ]
  }
 ],
 "metadata": {
  "kernelspec": {
   "display_name": "base",
   "language": "python",
   "name": "python3"
  },
  "language_info": {
   "codemirror_mode": {
    "name": "ipython",
    "version": 3
   },
   "file_extension": ".py",
   "mimetype": "text/x-python",
   "name": "python",
   "nbconvert_exporter": "python",
   "pygments_lexer": "ipython3",
   "version": "3.11.3"
  }
 },
 "nbformat": 4,
 "nbformat_minor": 5
}
