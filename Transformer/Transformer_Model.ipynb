{
  "cells": [
    {
      "cell_type": "markdown",
      "id": "b2c73b71",
      "metadata": {},
      "source": [
        "# Transformer"
      ]
    },
    {
      "cell_type": "markdown",
      "id": "87bc886e",
      "metadata": {},
      "source": [
        "## Import"
      ]
    },
    {
      "cell_type": "code",
      "execution_count": 3,
      "id": "8bc22d26",
      "metadata": {
        "id": "8bc22d26"
      },
      "outputs": [],
      "source": [
        "import torch\n",
        "from torchmetrics import Accuracy\n",
        "from torch.utils.data import DataLoader , random_split , TensorDataset\n",
        "import torch.backends.cudnn as cudnn\n",
        "import torch.optim as optim\n",
        "import torch.nn.functional as F\n",
        "import torch.nn as nn\n",
        "\n",
        "import torchvision\n",
        "from torchvision.datasets import CIFAR10\n",
        "from torchvision import transforms as T\n",
        "\n",
        "import pandas as pd\n",
        "\n",
        "from sklearn.model_selection import train_test_split\n",
        "import matplotlib.pyplot as plt\n",
        "import numpy as np\n",
        "from tqdm import tqdm\n",
        "\n",
        "import glob"
      ]
    },
    {
      "cell_type": "markdown",
      "id": "a6f0eed8",
      "metadata": {},
      "source": [
        "## Device"
      ]
    },
    {
      "cell_type": "code",
      "execution_count": null,
      "id": "41b6ff1d",
      "metadata": {
        "colab": {
          "base_uri": "https://localhost:8080/"
        },
        "id": "41b6ff1d",
        "outputId": "6cff079a-880b-4d1c-dbbd-f4ef0ca41163"
      },
      "outputs": [
        {
          "name": "stdout",
          "output_type": "stream",
          "text": [
            "cuda\n"
          ]
        }
      ],
      "source": [
        "device = \"cuda\" if torch.cuda.is_available else \"cpu\"\n",
        "print(device)"
      ]
    },
    {
      "cell_type": "markdown",
      "id": "cd323a7f",
      "metadata": {},
      "source": [
        "## Load Data"
      ]
    },
    {
      "cell_type": "code",
      "execution_count": null,
      "id": "80a2c013",
      "metadata": {
        "id": "80a2c013"
      },
      "outputs": [],
      "source": [
        "num_class = 6"
      ]
    },
    {
      "cell_type": "code",
      "execution_count": 5,
      "id": "5016ad2e",
      "metadata": {
        "id": "5016ad2e"
      },
      "outputs": [],
      "source": [
        "def har_dataset(phase):\n",
        "  x = []\n",
        "  data_dir = f'content/UCI HAR Dataset/{phase}/Inertial Signals/*'\n",
        "  for file_dir in glob.glob(data_dir):\n",
        "    x.append(np.loadtxt(file_dir))\n",
        "  y = np.loadtxt(f'content/UCI HAR Dataset/{phase}/y_{phase}.txt')\n",
        "  #\n",
        "  x = torch.FloatTensor(x).permute(1, 2, 0)\n",
        "  y = torch.LongTensor(y) - 1\n",
        "  return x, y"
      ]
    },
    {
      "cell_type": "code",
      "execution_count": 6,
      "id": "fea16171",
      "metadata": {
        "colab": {
          "base_uri": "https://localhost:8080/"
        },
        "id": "fea16171",
        "outputId": "0bca000e-cf4a-47e9-fd86-518e9f073991"
      },
      "outputs": [
        {
          "name": "stderr",
          "output_type": "stream",
          "text": [
            "C:\\Users\\BEHRAD\\AppData\\Local\\Temp\\ipykernel_23456\\965338797.py:8: UserWarning: Creating a tensor from a list of numpy.ndarrays is extremely slow. Please consider converting the list to a single numpy.ndarray with numpy.array() before converting to a tensor. (Triggered internally at C:\\actions-runner\\_work\\pytorch\\pytorch\\builder\\windows\\pytorch\\torch\\csrc\\utils\\tensor_new.cpp:281.)\n",
            "  x = torch.FloatTensor(x).permute(1, 2, 0)\n"
          ]
        }
      ],
      "source": [
        "x_train, y_train = har_dataset('train')\n",
        "x_test, y_test = har_dataset('test')"
      ]
    },
    {
      "cell_type": "code",
      "execution_count": null,
      "id": "dd0160c2",
      "metadata": {
        "colab": {
          "base_uri": "https://localhost:8080/"
        },
        "id": "dd0160c2",
        "outputId": "80b8598f-53ae-4398-d1cf-8598b3a6ec04"
      },
      "outputs": [
        {
          "data": {
            "text/plain": [
              "(torch.Size([7352, 128, 9]), torch.Size([7352]))"
            ]
          },
          "execution_count": 8,
          "metadata": {},
          "output_type": "execute_result"
        }
      ],
      "source": [
        "x_train.shape, y_train.shape"
      ]
    },
    {
      "cell_type": "code",
      "execution_count": null,
      "id": "ab747033",
      "metadata": {
        "colab": {
          "base_uri": "https://localhost:8080/"
        },
        "id": "ab747033",
        "outputId": "7e8d0f4a-7f88-4a09-d701-ffda71e61a55"
      },
      "outputs": [
        {
          "data": {
            "text/plain": [
              "tensor([0, 1, 2, 3, 4, 5])"
            ]
          },
          "execution_count": 9,
          "metadata": {},
          "output_type": "execute_result"
        }
      ],
      "source": [
        "torch.unique(y_test)"
      ]
    },
    {
      "cell_type": "code",
      "execution_count": null,
      "id": "e123d95d",
      "metadata": {
        "id": "e123d95d"
      },
      "outputs": [],
      "source": [
        "train_set = TensorDataset(x_train, y_train)\n",
        "test_set = TensorDataset(x_test, y_test)"
      ]
    },
    {
      "cell_type": "code",
      "execution_count": null,
      "id": "a7167b91",
      "metadata": {
        "colab": {
          "base_uri": "https://localhost:8080/"
        },
        "id": "a7167b91",
        "outputId": "ee214c0e-3241-478e-89a0-47681c50307c"
      },
      "outputs": [
        {
          "data": {
            "text/plain": [
              "tensor([0, 1, 2, 3, 4, 5])"
            ]
          },
          "execution_count": 11,
          "metadata": {},
          "output_type": "execute_result"
        }
      ],
      "source": [
        "torch.unique(y_test)"
      ]
    },
    {
      "cell_type": "code",
      "execution_count": null,
      "id": "197681f3",
      "metadata": {
        "id": "197681f3"
      },
      "outputs": [],
      "source": [
        "train_loader = DataLoader(train_set, batch_size=256, shuffle=True)\n",
        "test_loader = DataLoader(test_set, batch_size=256, shuffle=False)"
      ]
    },
    {
      "cell_type": "code",
      "execution_count": null,
      "id": "716c5190",
      "metadata": {
        "colab": {
          "base_uri": "https://localhost:8080/"
        },
        "id": "716c5190",
        "outputId": "4842e80b-2b08-4aca-f02b-36f30deb0a07"
      },
      "outputs": [
        {
          "name": "stdout",
          "output_type": "stream",
          "text": [
            "torch.Size([256, 128, 9])\n",
            "torch.Size([256])\n"
          ]
        }
      ],
      "source": [
        "x, y = next(iter(train_loader))\n",
        "print(x.shape)\n",
        "print(y.shape)"
      ]
    },
    {
      "cell_type": "markdown",
      "id": "c92f9b1c",
      "metadata": {},
      "source": [
        "## Transformer Model (Transformer Encoder)"
      ]
    },
    {
      "cell_type": "code",
      "execution_count": null,
      "id": "a3d1260b",
      "metadata": {
        "id": "a3d1260b"
      },
      "outputs": [],
      "source": [
        "class EncoderTransformer(nn.Module) :\n",
        "\n",
        "    def __init__(self , d_model , nhead , num_encoders , d_feed , dropout , activation) :\n",
        "        super().__init__()\n",
        "        self.encoder = nn.TransformerEncoder(nn.TransformerEncoderLayer(d_model=d_model , nhead=nhead , dim_feedforward=d_feed , dropout=dropout , activation=activation ) , num_layers=num_encoders)\n",
        "        self.fc = nn.LazyLinear(num_class)\n",
        "        self.bn0 = nn.BatchNorm1d(d_model)\n",
        "        self.l0 = nn.LazyLinear(d_model)\n",
        "\n",
        "    def forward(self , x):\n",
        "        x =  self.bn0(self.l0(x)).relu()\n",
        "        y = self.encoder(x)\n",
        "        y = self.fc(y.mean(dim=1))\n",
        "\n",
        "        return y\n"
      ]
    },
    {
      "cell_type": "code",
      "execution_count": null,
      "id": "8894daa1",
      "metadata": {
        "colab": {
          "base_uri": "https://localhost:8080/"
        },
        "id": "8894daa1",
        "outputId": "5c4bf28a-4218-4f38-8747-4c95ddcfe75b"
      },
      "outputs": [
        {
          "name": "stderr",
          "output_type": "stream",
          "text": [
            "/usr/local/lib/python3.11/dist-packages/torch/nn/modules/transformer.py:385: UserWarning: enable_nested_tensor is True, but self.use_nested_tensor is False because encoder_layer.self_attn.batch_first was not True(use batch_first for better inference performance)\n",
            "  warnings.warn(\n"
          ]
        }
      ],
      "source": [
        "model = EncoderTransformer(128, 8, 8, 256, 0.1, 'relu')"
      ]
    },
    {
      "cell_type": "code",
      "execution_count": null,
      "id": "3cacaab7",
      "metadata": {
        "colab": {
          "base_uri": "https://localhost:8080/"
        },
        "id": "3cacaab7",
        "outputId": "653bdbba-d894-4acc-c1c7-38d959ceb933"
      },
      "outputs": [
        {
          "data": {
            "text/plain": [
              "torch.Size([256, 6])"
            ]
          },
          "execution_count": 16,
          "metadata": {},
          "output_type": "execute_result"
        }
      ],
      "source": [
        "model(x).shape"
      ]
    },
    {
      "cell_type": "code",
      "execution_count": null,
      "id": "56b41db9",
      "metadata": {
        "id": "56b41db9"
      },
      "outputs": [],
      "source": [
        "def num_params(model, k=1e6):\n",
        "  nums = sum(p.numel() for p in model.parameters())/k\n",
        "  return nums"
      ]
    },
    {
      "cell_type": "code",
      "execution_count": null,
      "id": "14b41d17",
      "metadata": {
        "colab": {
          "base_uri": "https://localhost:8080/"
        },
        "id": "14b41d17",
        "outputId": "e7af2b6a-23ff-4659-c2c1-27384be0d6e4"
      },
      "outputs": [
        {
          "data": {
            "text/plain": [
              "1.06215"
            ]
          },
          "execution_count": 18,
          "metadata": {},
          "output_type": "execute_result"
        }
      ],
      "source": [
        "num_params(model, 1e6)"
      ]
    },
    {
      "cell_type": "markdown",
      "id": "c3b66373",
      "metadata": {},
      "source": [
        "## Functions"
      ]
    },
    {
      "cell_type": "code",
      "execution_count": null,
      "id": "c1d05dba",
      "metadata": {
        "id": "c1d05dba"
      },
      "outputs": [],
      "source": [
        "class AverageMeter(object):\n",
        "    \"\"\"Computes and stores the average and current value\"\"\"\n",
        "    def __init__(self):\n",
        "        self.reset()\n",
        "\n",
        "    def reset(self):\n",
        "        self.val = 0\n",
        "        self.avg = 0\n",
        "        self.sum = 0\n",
        "        self.count = 0\n",
        "\n",
        "    def update(self, val, n=1):\n",
        "        self.val = val\n",
        "        self.sum += val * n\n",
        "        self.count += n\n",
        "        self.avg = self.sum / self.count"
      ]
    },
    {
      "cell_type": "code",
      "execution_count": null,
      "id": "0d538b91",
      "metadata": {
        "id": "0d538b91"
      },
      "outputs": [],
      "source": [
        "def train_one_epoch(model, train_loader, loss_fn, optimizer, epoch=None):\n",
        "  model.train()\n",
        "  loss_train = AverageMeter()\n",
        "  acc_train = Accuracy(task=\"multiclass\", num_classes=num_class).to(device)\n",
        "  with tqdm(train_loader, unit=\"batch\") as tepoch:\n",
        "    for inputs, targets in tepoch:\n",
        "      if epoch is not None:\n",
        "        tepoch.set_description(f\"Epoch {epoch}\")\n",
        "      inputs = inputs.to(device)\n",
        "      targets = targets.to(device)\n",
        "\n",
        "      outputs = model(inputs)\n",
        "\n",
        "      loss = loss_fn(outputs, targets)\n",
        "\n",
        "      loss.backward()\n",
        "      nn.utils.clip_grad_norm_(model.parameters(), 0.5)\n",
        "\n",
        "      optimizer.step()\n",
        "      optimizer.zero_grad()\n",
        "\n",
        "      loss_train.update(loss.item())\n",
        "      acc_train(outputs, targets.int())\n",
        "      tepoch.set_postfix(loss=loss_train.avg,\n",
        "                         accuracy=100.*acc_train.compute().item())\n",
        "  return model, loss_train.avg, acc_train.compute().item()"
      ]
    },
    {
      "cell_type": "code",
      "execution_count": null,
      "id": "dfcfaae8",
      "metadata": {
        "id": "dfcfaae8"
      },
      "outputs": [],
      "source": [
        "def validation(model, test_loader, loss_fn):\n",
        "  model.eval()\n",
        "  with torch.no_grad():\n",
        "    loss_valid = AverageMeter()\n",
        "    acc_valid = Accuracy(task=\"multiclass\", num_classes=num_class).to(device)\n",
        "    for i, (inputs, targets) in enumerate(test_loader):\n",
        "      inputs = inputs.to(device)\n",
        "      targets = targets.to(device)\n",
        "\n",
        "      outputs = model(inputs)\n",
        "      loss = loss_fn(outputs, targets)\n",
        "\n",
        "      loss_valid.update(loss.item())\n",
        "      acc_valid(outputs, targets.int())\n",
        "  return loss_valid.avg, acc_valid.compute().item()"
      ]
    },
    {
      "cell_type": "markdown",
      "id": "cc28bef0",
      "metadata": {},
      "source": [
        "## Efficient Way For Set Hyperparams"
      ]
    },
    {
      "cell_type": "markdown",
      "id": "11dc7bd2",
      "metadata": {},
      "source": [
        "### Check Forward Path"
      ]
    },
    {
      "cell_type": "code",
      "execution_count": null,
      "id": "a48fa1da",
      "metadata": {
        "colab": {
          "base_uri": "https://localhost:8080/"
        },
        "id": "a48fa1da",
        "outputId": "1f0568ae-6601-457b-ac7d-deba498dd136"
      },
      "outputs": [
        {
          "name": "stdout",
          "output_type": "stream",
          "text": [
            "tensor(1.8737, device='cuda:0', grad_fn=<NllLossBackward0>)\n"
          ]
        }
      ],
      "source": [
        "model = EncoderTransformer(128, 8, 8, 256, 0.1, 'relu').to(device)\n",
        "loss_fn = nn.CrossEntropyLoss()\n",
        "\n",
        "x_batch, y_batch = next(iter(train_loader))\n",
        "outputs = model(x_batch.to(device))\n",
        "loss = loss_fn(outputs, y_batch.to(device))\n",
        "print(loss)"
      ]
    },
    {
      "cell_type": "markdown",
      "id": "042fc49b",
      "metadata": {},
      "source": [
        "### Check Backward Path"
      ]
    },
    {
      "cell_type": "code",
      "execution_count": null,
      "id": "a1888bd5",
      "metadata": {
        "id": "a1888bd5"
      },
      "outputs": [],
      "source": [
        "_, mini_train_dataset = random_split(train_set, (len(train_set)-500, 500))\n",
        "mini_train_loader = DataLoader(mini_train_dataset, 20)"
      ]
    },
    {
      "cell_type": "code",
      "execution_count": null,
      "id": "5002a678",
      "metadata": {
        "id": "5002a678"
      },
      "outputs": [],
      "source": [
        "model = EncoderTransformer(128, 8, 8, 256, 0.1, 'relu').to(device)\n",
        "loss_fn = nn.CrossEntropyLoss()"
      ]
    },
    {
      "cell_type": "code",
      "execution_count": null,
      "id": "99a180c1",
      "metadata": {
        "id": "99a180c1"
      },
      "outputs": [],
      "source": [
        "optimizer = optim.SGD(model.parameters(), lr=0.01, momentum=0.9)"
      ]
    },
    {
      "cell_type": "code",
      "execution_count": null,
      "id": "6effc47f",
      "metadata": {
        "colab": {
          "base_uri": "https://localhost:8080/"
        },
        "id": "6effc47f",
        "outputId": "a600dd51-e54a-4b83-8d35-2af8623d6015"
      },
      "outputs": [
        {
          "name": "stderr",
          "output_type": "stream",
          "text": [
            "Epoch 0: 100%|██████████| 25/25 [00:01<00:00, 21.68batch/s, accuracy=22.4, loss=1.76]\n",
            "Epoch 1: 100%|██████████| 25/25 [00:00<00:00, 34.47batch/s, accuracy=41, loss=1.53]\n",
            "Epoch 2: 100%|██████████| 25/25 [00:00<00:00, 32.33batch/s, accuracy=49, loss=1.31]\n",
            "Epoch 3: 100%|██████████| 25/25 [00:00<00:00, 30.75batch/s, accuracy=59, loss=1.16]\n",
            "Epoch 4: 100%|██████████| 25/25 [00:00<00:00, 42.33batch/s, accuracy=60.2, loss=1.01]\n",
            "Epoch 5: 100%|██████████| 25/25 [00:00<00:00, 41.49batch/s, accuracy=64, loss=0.892]\n",
            "Epoch 6: 100%|██████████| 25/25 [00:00<00:00, 38.89batch/s, accuracy=67.6, loss=0.803]\n",
            "Epoch 7: 100%|██████████| 25/25 [00:00<00:00, 34.56batch/s, accuracy=69, loss=0.744]\n",
            "Epoch 8: 100%|██████████| 25/25 [00:00<00:00, 34.49batch/s, accuracy=73.8, loss=0.693]\n",
            "Epoch 9: 100%|██████████| 25/25 [00:00<00:00, 34.80batch/s, accuracy=75.8, loss=0.653]\n",
            "Epoch 10: 100%|██████████| 25/25 [00:00<00:00, 28.08batch/s, accuracy=76.8, loss=0.625]\n",
            "Epoch 11: 100%|██████████| 25/25 [00:00<00:00, 35.65batch/s, accuracy=78, loss=0.602]\n",
            "Epoch 12: 100%|██████████| 25/25 [00:00<00:00, 40.48batch/s, accuracy=78, loss=0.577]\n",
            "Epoch 13: 100%|██████████| 25/25 [00:00<00:00, 41.18batch/s, accuracy=79.4, loss=0.558]\n",
            "Epoch 14: 100%|██████████| 25/25 [00:00<00:00, 41.04batch/s, accuracy=79.4, loss=0.538]\n",
            "Epoch 15: 100%|██████████| 25/25 [00:00<00:00, 42.01batch/s, accuracy=81.2, loss=0.519]\n",
            "Epoch 16: 100%|██████████| 25/25 [00:00<00:00, 40.16batch/s, accuracy=81, loss=0.506]\n",
            "Epoch 17: 100%|██████████| 25/25 [00:00<00:00, 41.04batch/s, accuracy=82.2, loss=0.491]\n",
            "Epoch 18: 100%|██████████| 25/25 [00:00<00:00, 41.29batch/s, accuracy=82.4, loss=0.476]\n",
            "Epoch 19: 100%|██████████| 25/25 [00:00<00:00, 40.91batch/s, accuracy=83, loss=0.453]\n",
            "Epoch 20: 100%|██████████| 25/25 [00:00<00:00, 41.72batch/s, accuracy=83, loss=0.433]\n",
            "Epoch 21: 100%|██████████| 25/25 [00:00<00:00, 41.27batch/s, accuracy=84.2, loss=0.415]\n",
            "Epoch 22: 100%|██████████| 25/25 [00:00<00:00, 42.01batch/s, accuracy=84.8, loss=0.399]\n",
            "Epoch 23: 100%|██████████| 25/25 [00:00<00:00, 40.88batch/s, accuracy=85.4, loss=0.39]\n",
            "Epoch 24: 100%|██████████| 25/25 [00:00<00:00, 31.75batch/s, accuracy=86.8, loss=0.376]\n",
            "Epoch 25: 100%|██████████| 25/25 [00:00<00:00, 41.46batch/s, accuracy=85.8, loss=0.356]\n",
            "Epoch 26: 100%|██████████| 25/25 [00:00<00:00, 40.14batch/s, accuracy=86.4, loss=0.341]\n",
            "Epoch 27: 100%|██████████| 25/25 [00:00<00:00, 33.07batch/s, accuracy=88.2, loss=0.328]\n",
            "Epoch 28: 100%|██████████| 25/25 [00:00<00:00, 34.26batch/s, accuracy=88.8, loss=0.317]\n",
            "Epoch 29: 100%|██████████| 25/25 [00:00<00:00, 32.22batch/s, accuracy=89, loss=0.31]\n",
            "Epoch 30: 100%|██████████| 25/25 [00:00<00:00, 31.61batch/s, accuracy=89, loss=0.302]\n",
            "Epoch 31: 100%|██████████| 25/25 [00:00<00:00, 33.22batch/s, accuracy=89.2, loss=0.291]\n",
            "Epoch 32: 100%|██████████| 25/25 [00:00<00:00, 39.73batch/s, accuracy=90.2, loss=0.274]\n",
            "Epoch 33: 100%|██████████| 25/25 [00:00<00:00, 40.51batch/s, accuracy=91.2, loss=0.26]\n",
            "Epoch 34: 100%|██████████| 25/25 [00:00<00:00, 40.78batch/s, accuracy=91.8, loss=0.245]\n",
            "Epoch 35: 100%|██████████| 25/25 [00:00<00:00, 40.56batch/s, accuracy=91.6, loss=0.238]\n",
            "Epoch 36: 100%|██████████| 25/25 [00:00<00:00, 41.14batch/s, accuracy=91.6, loss=0.232]\n",
            "Epoch 37: 100%|██████████| 25/25 [00:00<00:00, 33.28batch/s, accuracy=91.6, loss=0.224]\n",
            "Epoch 38: 100%|██████████| 25/25 [00:00<00:00, 35.86batch/s, accuracy=92.4, loss=0.221]\n",
            "Epoch 39: 100%|██████████| 25/25 [00:00<00:00, 34.77batch/s, accuracy=91.2, loss=0.235]\n",
            "Epoch 40: 100%|██████████| 25/25 [00:00<00:00, 40.32batch/s, accuracy=91.8, loss=0.226]\n",
            "Epoch 41: 100%|██████████| 25/25 [00:00<00:00, 39.81batch/s, accuracy=91.8, loss=0.21]\n",
            "Epoch 42: 100%|██████████| 25/25 [00:00<00:00, 40.68batch/s, accuracy=91.2, loss=0.215]\n",
            "Epoch 43: 100%|██████████| 25/25 [00:00<00:00, 39.73batch/s, accuracy=92.6, loss=0.199]\n",
            "Epoch 44: 100%|██████████| 25/25 [00:00<00:00, 40.53batch/s, accuracy=92.6, loss=0.2]\n",
            "Epoch 45: 100%|██████████| 25/25 [00:00<00:00, 40.40batch/s, accuracy=92.4, loss=0.192]\n",
            "Epoch 46: 100%|██████████| 25/25 [00:00<00:00, 39.98batch/s, accuracy=93, loss=0.185]\n",
            "Epoch 47: 100%|██████████| 25/25 [00:00<00:00, 33.96batch/s, accuracy=93.8, loss=0.176]\n",
            "Epoch 48: 100%|██████████| 25/25 [00:00<00:00, 32.19batch/s, accuracy=93.4, loss=0.179]\n",
            "Epoch 49: 100%|██████████| 25/25 [00:00<00:00, 33.68batch/s, accuracy=93.6, loss=0.174]\n",
            "Epoch 50: 100%|██████████| 25/25 [00:00<00:00, 30.82batch/s, accuracy=94, loss=0.165]\n",
            "Epoch 51: 100%|██████████| 25/25 [00:00<00:00, 32.64batch/s, accuracy=94.4, loss=0.157]\n",
            "Epoch 52: 100%|██████████| 25/25 [00:00<00:00, 40.20batch/s, accuracy=93.8, loss=0.163]\n",
            "Epoch 53: 100%|██████████| 25/25 [00:00<00:00, 40.23batch/s, accuracy=94.6, loss=0.156]\n",
            "Epoch 54: 100%|██████████| 25/25 [00:00<00:00, 40.92batch/s, accuracy=94.8, loss=0.153]\n",
            "Epoch 55: 100%|██████████| 25/25 [00:00<00:00, 40.58batch/s, accuracy=94.6, loss=0.154]\n",
            "Epoch 56: 100%|██████████| 25/25 [00:00<00:00, 41.02batch/s, accuracy=94.8, loss=0.15]\n",
            "Epoch 57: 100%|██████████| 25/25 [00:00<00:00, 40.72batch/s, accuracy=95.4, loss=0.143]\n",
            "Epoch 58: 100%|██████████| 25/25 [00:00<00:00, 40.01batch/s, accuracy=95.2, loss=0.148]\n",
            "Epoch 59: 100%|██████████| 25/25 [00:00<00:00, 40.96batch/s, accuracy=93.8, loss=0.157]\n",
            "Epoch 60: 100%|██████████| 25/25 [00:00<00:00, 40.40batch/s, accuracy=93, loss=0.183]\n",
            "Epoch 61: 100%|██████████| 25/25 [00:00<00:00, 39.82batch/s, accuracy=93.2, loss=0.172]\n",
            "Epoch 62: 100%|██████████| 25/25 [00:00<00:00, 40.28batch/s, accuracy=93.4, loss=0.156]\n",
            "Epoch 63: 100%|██████████| 25/25 [00:00<00:00, 39.99batch/s, accuracy=92.8, loss=0.155]\n",
            "Epoch 64: 100%|██████████| 25/25 [00:00<00:00, 41.13batch/s, accuracy=94.2, loss=0.143]\n",
            "Epoch 65: 100%|██████████| 25/25 [00:00<00:00, 38.83batch/s, accuracy=94.2, loss=0.142]\n",
            "Epoch 66: 100%|██████████| 25/25 [00:00<00:00, 40.42batch/s, accuracy=93.4, loss=0.148]\n",
            "Epoch 67: 100%|██████████| 25/25 [00:00<00:00, 35.40batch/s, accuracy=95, loss=0.132]\n",
            "Epoch 68: 100%|██████████| 25/25 [00:00<00:00, 33.40batch/s, accuracy=95.4, loss=0.127]\n",
            "Epoch 69: 100%|██████████| 25/25 [00:00<00:00, 35.22batch/s, accuracy=94, loss=0.139]\n",
            "Epoch 70: 100%|██████████| 25/25 [00:00<00:00, 33.97batch/s, accuracy=95, loss=0.123]\n",
            "Epoch 71: 100%|██████████| 25/25 [00:00<00:00, 29.15batch/s, accuracy=96, loss=0.117]\n",
            "Epoch 72: 100%|██████████| 25/25 [00:00<00:00, 38.95batch/s, accuracy=95.4, loss=0.116]\n",
            "Epoch 73: 100%|██████████| 25/25 [00:00<00:00, 39.29batch/s, accuracy=95.6, loss=0.111]\n",
            "Epoch 74: 100%|██████████| 25/25 [00:00<00:00, 39.45batch/s, accuracy=95.8, loss=0.104]\n",
            "Epoch 75: 100%|██████████| 25/25 [00:00<00:00, 40.82batch/s, accuracy=96.2, loss=0.0997]\n",
            "Epoch 76: 100%|██████████| 25/25 [00:00<00:00, 38.86batch/s, accuracy=96, loss=0.099]\n",
            "Epoch 77: 100%|██████████| 25/25 [00:00<00:00, 40.74batch/s, accuracy=96, loss=0.107]\n",
            "Epoch 78: 100%|██████████| 25/25 [00:00<00:00, 39.91batch/s, accuracy=94.6, loss=0.144]\n",
            "Epoch 79: 100%|██████████| 25/25 [00:00<00:00, 39.47batch/s, accuracy=96, loss=0.105]\n",
            "Epoch 80: 100%|██████████| 25/25 [00:00<00:00, 40.60batch/s, accuracy=97.2, loss=0.0946]\n",
            "Epoch 81: 100%|██████████| 25/25 [00:00<00:00, 39.74batch/s, accuracy=96.4, loss=0.099]\n",
            "Epoch 82: 100%|██████████| 25/25 [00:00<00:00, 40.70batch/s, accuracy=96.8, loss=0.0918]\n",
            "Epoch 83: 100%|██████████| 25/25 [00:00<00:00, 39.84batch/s, accuracy=96.6, loss=0.102]\n",
            "Epoch 84: 100%|██████████| 25/25 [00:00<00:00, 40.08batch/s, accuracy=97.2, loss=0.0923]\n",
            "Epoch 85: 100%|██████████| 25/25 [00:00<00:00, 40.56batch/s, accuracy=97.2, loss=0.092]\n",
            "Epoch 86: 100%|██████████| 25/25 [00:00<00:00, 39.46batch/s, accuracy=96.8, loss=0.0864]\n",
            "Epoch 87: 100%|██████████| 25/25 [00:00<00:00, 40.05batch/s, accuracy=97.8, loss=0.0772]\n",
            "Epoch 88: 100%|██████████| 25/25 [00:00<00:00, 30.87batch/s, accuracy=96, loss=0.0973]\n",
            "Epoch 89: 100%|██████████| 25/25 [00:00<00:00, 32.13batch/s, accuracy=96.8, loss=0.0886]\n",
            "Epoch 90: 100%|██████████| 25/25 [00:00<00:00, 32.60batch/s, accuracy=97.6, loss=0.0877]\n",
            "Epoch 91: 100%|██████████| 25/25 [00:00<00:00, 29.50batch/s, accuracy=97.2, loss=0.0841]\n",
            "Epoch 92: 100%|██████████| 25/25 [00:00<00:00, 33.75batch/s, accuracy=97.6, loss=0.0786]\n",
            "Epoch 93: 100%|██████████| 25/25 [00:00<00:00, 38.21batch/s, accuracy=97.8, loss=0.0789]\n",
            "Epoch 94: 100%|██████████| 25/25 [00:00<00:00, 40.15batch/s, accuracy=97.2, loss=0.078]\n",
            "Epoch 95: 100%|██████████| 25/25 [00:00<00:00, 39.78batch/s, accuracy=97.2, loss=0.0854]\n",
            "Epoch 96: 100%|██████████| 25/25 [00:00<00:00, 39.43batch/s, accuracy=96.4, loss=0.0934]\n",
            "Epoch 97: 100%|██████████| 25/25 [00:00<00:00, 40.41batch/s, accuracy=96.6, loss=0.0911]\n",
            "Epoch 98: 100%|██████████| 25/25 [00:00<00:00, 39.99batch/s, accuracy=97, loss=0.085]\n",
            "Epoch 99: 100%|██████████| 25/25 [00:00<00:00, 40.30batch/s, accuracy=97.4, loss=0.0715]\n"
          ]
        }
      ],
      "source": [
        "num_epochs = 100\n",
        "for epoch in range(num_epochs):\n",
        "  model, _, _ = train_one_epoch(model, mini_train_loader, loss_fn, optimizer, epoch)"
      ]
    },
    {
      "cell_type": "markdown",
      "id": "6a880075",
      "metadata": {},
      "source": [
        "### Select Best Learning Rate"
      ]
    },
    {
      "cell_type": "code",
      "execution_count": null,
      "id": "0abbd3c6",
      "metadata": {
        "colab": {
          "base_uri": "https://localhost:8080/"
        },
        "id": "0abbd3c6",
        "outputId": "9ab1bc80-a9f7-4c97-8693-f4240b0fe55f"
      },
      "outputs": [
        {
          "name": "stdout",
          "output_type": "stream",
          "text": [
            "LR=0.9\n"
          ]
        },
        {
          "name": "stderr",
          "output_type": "stream",
          "text": [
            "Epoch 0: 100%|██████████| 29/29 [00:08<00:00,  3.23batch/s, accuracy=17.5, loss=2.42]\n",
            "Epoch 1: 100%|██████████| 29/29 [00:08<00:00,  3.28batch/s, accuracy=16.5, loss=2.69]\n",
            "Epoch 2: 100%|██████████| 29/29 [00:08<00:00,  3.28batch/s, accuracy=16.8, loss=2.09]\n",
            "Epoch 3: 100%|██████████| 29/29 [00:08<00:00,  3.31batch/s, accuracy=17.8, loss=1.99]\n",
            "Epoch 4: 100%|██████████| 29/29 [00:08<00:00,  3.32batch/s, accuracy=16.8, loss=1.83]\n"
          ]
        },
        {
          "name": "stdout",
          "output_type": "stream",
          "text": [
            "\n",
            "LR=0.5\n"
          ]
        },
        {
          "name": "stderr",
          "output_type": "stream",
          "text": [
            "Epoch 0: 100%|██████████| 29/29 [00:08<00:00,  3.30batch/s, accuracy=31.3, loss=1.69]\n",
            "Epoch 1: 100%|██████████| 29/29 [00:08<00:00,  3.29batch/s, accuracy=70.7, loss=0.744]\n",
            "Epoch 2: 100%|██████████| 29/29 [00:08<00:00,  3.30batch/s, accuracy=79.6, loss=0.553]\n",
            "Epoch 3: 100%|██████████| 29/29 [00:08<00:00,  3.28batch/s, accuracy=82.4, loss=0.506]\n",
            "Epoch 4: 100%|██████████| 29/29 [00:08<00:00,  3.28batch/s, accuracy=82.8, loss=0.47]\n"
          ]
        },
        {
          "name": "stdout",
          "output_type": "stream",
          "text": [
            "\n",
            "LR=0.2\n"
          ]
        },
        {
          "name": "stderr",
          "output_type": "stream",
          "text": [
            "Epoch 0: 100%|██████████| 29/29 [00:08<00:00,  3.28batch/s, accuracy=35.9, loss=1.53]\n",
            "Epoch 1: 100%|██████████| 29/29 [00:08<00:00,  3.27batch/s, accuracy=69.9, loss=0.681]\n",
            "Epoch 2: 100%|██████████| 29/29 [00:08<00:00,  3.29batch/s, accuracy=83.4, loss=0.418]\n",
            "Epoch 3: 100%|██████████| 29/29 [00:08<00:00,  3.28batch/s, accuracy=88.6, loss=0.308]\n",
            "Epoch 4: 100%|██████████| 29/29 [00:08<00:00,  3.28batch/s, accuracy=90.6, loss=0.261]\n"
          ]
        },
        {
          "name": "stdout",
          "output_type": "stream",
          "text": [
            "\n",
            "LR=0.15\n"
          ]
        },
        {
          "name": "stderr",
          "output_type": "stream",
          "text": [
            "Epoch 0: 100%|██████████| 29/29 [00:08<00:00,  3.29batch/s, accuracy=41.8, loss=1.33]\n",
            "Epoch 1: 100%|██████████| 29/29 [00:08<00:00,  3.29batch/s, accuracy=76.6, loss=0.563]\n",
            "Epoch 2: 100%|██████████| 29/29 [00:08<00:00,  3.29batch/s, accuracy=84.9, loss=0.389]\n",
            "Epoch 3: 100%|██████████| 29/29 [00:08<00:00,  3.29batch/s, accuracy=89.7, loss=0.283]\n",
            "Epoch 4: 100%|██████████| 29/29 [00:08<00:00,  3.28batch/s, accuracy=91.4, loss=0.229]\n"
          ]
        },
        {
          "name": "stdout",
          "output_type": "stream",
          "text": [
            "\n",
            "LR=0.1\n"
          ]
        },
        {
          "name": "stderr",
          "output_type": "stream",
          "text": [
            "Epoch 0: 100%|██████████| 29/29 [00:08<00:00,  3.29batch/s, accuracy=47.3, loss=1.25]\n",
            "Epoch 1: 100%|██████████| 29/29 [00:08<00:00,  3.28batch/s, accuracy=72.7, loss=0.623]\n",
            "Epoch 2: 100%|██████████| 29/29 [00:08<00:00,  3.27batch/s, accuracy=83.1, loss=0.437]\n",
            "Epoch 3: 100%|██████████| 29/29 [00:08<00:00,  3.29batch/s, accuracy=88.1, loss=0.321]\n",
            "Epoch 4: 100%|██████████| 29/29 [00:08<00:00,  3.28batch/s, accuracy=91, loss=0.237]\n"
          ]
        },
        {
          "name": "stdout",
          "output_type": "stream",
          "text": [
            "\n",
            "LR=0.01\n"
          ]
        },
        {
          "name": "stderr",
          "output_type": "stream",
          "text": [
            "Epoch 0: 100%|██████████| 29/29 [00:08<00:00,  3.28batch/s, accuracy=23, loss=1.77]\n",
            "Epoch 1: 100%|██████████| 29/29 [00:08<00:00,  3.29batch/s, accuracy=48.6, loss=1.29]\n",
            "Epoch 2: 100%|██████████| 29/29 [00:08<00:00,  3.28batch/s, accuracy=67.3, loss=0.897]\n",
            "Epoch 3: 100%|██████████| 29/29 [00:08<00:00,  3.28batch/s, accuracy=73.6, loss=0.721]\n",
            "Epoch 4: 100%|██████████| 29/29 [00:08<00:00,  3.30batch/s, accuracy=76.4, loss=0.631]\n"
          ]
        },
        {
          "name": "stdout",
          "output_type": "stream",
          "text": [
            "\n",
            "LR=0.001\n"
          ]
        },
        {
          "name": "stderr",
          "output_type": "stream",
          "text": [
            "Epoch 0: 100%|██████████| 29/29 [00:08<00:00,  3.29batch/s, accuracy=13.9, loss=1.83]\n",
            "Epoch 1: 100%|██████████| 29/29 [00:08<00:00,  3.30batch/s, accuracy=22.4, loss=1.77]\n",
            "Epoch 2: 100%|██████████| 29/29 [00:08<00:00,  3.30batch/s, accuracy=35.3, loss=1.73]\n",
            "Epoch 3: 100%|██████████| 29/29 [00:08<00:00,  3.28batch/s, accuracy=39, loss=1.69]\n",
            "Epoch 4: 100%|██████████| 29/29 [00:08<00:00,  3.29batch/s, accuracy=46.5, loss=1.62]\n"
          ]
        },
        {
          "name": "stdout",
          "output_type": "stream",
          "text": [
            "\n",
            "LR=0.0001\n"
          ]
        },
        {
          "name": "stderr",
          "output_type": "stream",
          "text": [
            "Epoch 0: 100%|██████████| 29/29 [00:08<00:00,  3.29batch/s, accuracy=19.1, loss=1.9]\n",
            "Epoch 1: 100%|██████████| 29/29 [00:08<00:00,  3.28batch/s, accuracy=19.1, loss=1.85]\n",
            "Epoch 2: 100%|██████████| 29/29 [00:08<00:00,  3.28batch/s, accuracy=19.1, loss=1.81]\n",
            "Epoch 3: 100%|██████████| 29/29 [00:08<00:00,  3.28batch/s, accuracy=19.1, loss=1.78]\n",
            "Epoch 4: 100%|██████████| 29/29 [00:08<00:00,  3.28batch/s, accuracy=19.7, loss=1.76]"
          ]
        },
        {
          "name": "stdout",
          "output_type": "stream",
          "text": [
            "\n"
          ]
        },
        {
          "name": "stderr",
          "output_type": "stream",
          "text": [
            "\n"
          ]
        }
      ],
      "source": [
        "num_epochs = 5\n",
        "for lr in [0.9, 0.5, 0.2 , 0.15 , 0.1, 0.01, 0.001, 0.0001]:\n",
        "  print(f'LR={lr}')\n",
        "  model = EncoderTransformer(128, 8, 8, 256, 0.1, \"relu\").to(device)\n",
        "  # model = torch.load('model.pt')\n",
        "  optimizer = optim.SGD(model.parameters(), lr=lr, weight_decay=1e-4, momentum=0.9)\n",
        "  for epoch in range(num_epochs):\n",
        "    model, _, _ = train_one_epoch(model, train_loader, loss_fn, optimizer, epoch)\n",
        "  print()"
      ]
    },
    {
      "cell_type": "markdown",
      "id": "dce2fd03",
      "metadata": {},
      "source": [
        "### Small Grid"
      ]
    },
    {
      "cell_type": "code",
      "execution_count": null,
      "id": "75256401",
      "metadata": {
        "colab": {
          "base_uri": "https://localhost:8080/"
        },
        "id": "75256401",
        "outputId": "fa0c0f90-aecc-43fa-feb9-f376e6e67eb0"
      },
      "outputs": [
        {
          "name": "stdout",
          "output_type": "stream",
          "text": [
            "LR=0.05, WD=0.0001\n"
          ]
        },
        {
          "name": "stderr",
          "output_type": "stream",
          "text": [
            "Epoch 0: 100%|██████████| 29/29 [00:08<00:00,  3.27batch/s, accuracy=37.5, loss=1.63]\n",
            "Epoch 1: 100%|██████████| 29/29 [00:08<00:00,  3.27batch/s, accuracy=47.9, loss=1.33]\n",
            "Epoch 2: 100%|██████████| 29/29 [00:08<00:00,  3.27batch/s, accuracy=56.3, loss=1.16]\n",
            "Epoch 3: 100%|██████████| 29/29 [00:08<00:00,  3.28batch/s, accuracy=63.8, loss=1.01]\n",
            "Epoch 4: 100%|██████████| 29/29 [00:08<00:00,  3.28batch/s, accuracy=66.1, loss=0.901]\n"
          ]
        },
        {
          "name": "stdout",
          "output_type": "stream",
          "text": [
            "\n",
            "LR=0.05, WD=1e-05\n"
          ]
        },
        {
          "name": "stderr",
          "output_type": "stream",
          "text": [
            "Epoch 0: 100%|██████████| 29/29 [00:08<00:00,  3.29batch/s, accuracy=30.1, loss=1.74]\n",
            "Epoch 1: 100%|██████████| 29/29 [00:08<00:00,  3.28batch/s, accuracy=49.7, loss=1.34]\n",
            "Epoch 2: 100%|██████████| 29/29 [00:08<00:00,  3.27batch/s, accuracy=60.7, loss=1.1]\n",
            "Epoch 3: 100%|██████████| 29/29 [00:08<00:00,  3.28batch/s, accuracy=64.4, loss=0.942]\n",
            "Epoch 4: 100%|██████████| 29/29 [00:08<00:00,  3.28batch/s, accuracy=67.3, loss=0.844]\n"
          ]
        },
        {
          "name": "stdout",
          "output_type": "stream",
          "text": [
            "\n",
            "LR=0.05, WD=0.0\n"
          ]
        },
        {
          "name": "stderr",
          "output_type": "stream",
          "text": [
            "Epoch 0: 100%|██████████| 29/29 [00:09<00:00,  3.20batch/s, accuracy=37.7, loss=1.64]\n",
            "Epoch 1: 100%|██████████| 29/29 [00:08<00:00,  3.29batch/s, accuracy=53.7, loss=1.24]\n",
            "Epoch 2: 100%|██████████| 29/29 [00:08<00:00,  3.28batch/s, accuracy=60.2, loss=1.03]\n",
            "Epoch 3: 100%|██████████| 29/29 [00:08<00:00,  3.29batch/s, accuracy=65.5, loss=0.916]\n",
            "Epoch 4: 100%|██████████| 29/29 [00:08<00:00,  3.27batch/s, accuracy=67.9, loss=0.834]\n"
          ]
        },
        {
          "name": "stdout",
          "output_type": "stream",
          "text": [
            "\n",
            "LR=0.04, WD=0.0001\n"
          ]
        },
        {
          "name": "stderr",
          "output_type": "stream",
          "text": [
            "Epoch 0: 100%|██████████| 29/29 [00:08<00:00,  3.27batch/s, accuracy=36, loss=1.67]\n",
            "Epoch 1: 100%|██████████| 29/29 [00:08<00:00,  3.26batch/s, accuracy=52.8, loss=1.26]\n",
            "Epoch 2: 100%|██████████| 29/29 [00:08<00:00,  3.29batch/s, accuracy=62.2, loss=1.04]\n",
            "Epoch 3: 100%|██████████| 29/29 [00:08<00:00,  3.29batch/s, accuracy=66, loss=0.914]\n",
            "Epoch 4: 100%|██████████| 29/29 [00:08<00:00,  3.28batch/s, accuracy=67.8, loss=0.835]\n"
          ]
        },
        {
          "name": "stdout",
          "output_type": "stream",
          "text": [
            "\n",
            "LR=0.04, WD=1e-05\n"
          ]
        },
        {
          "name": "stderr",
          "output_type": "stream",
          "text": [
            "Epoch 0: 100%|██████████| 29/29 [00:08<00:00,  3.29batch/s, accuracy=34.3, loss=1.66]\n",
            "Epoch 1: 100%|██████████| 29/29 [00:08<00:00,  3.28batch/s, accuracy=51.2, loss=1.24]\n",
            "Epoch 2: 100%|██████████| 29/29 [00:08<00:00,  3.28batch/s, accuracy=66.2, loss=0.985]\n",
            "Epoch 3: 100%|██████████| 29/29 [00:08<00:00,  3.28batch/s, accuracy=70, loss=0.844]\n",
            "Epoch 4: 100%|██████████| 29/29 [00:08<00:00,  3.28batch/s, accuracy=71.4, loss=0.767]\n"
          ]
        },
        {
          "name": "stdout",
          "output_type": "stream",
          "text": [
            "\n",
            "LR=0.04, WD=0.0\n"
          ]
        },
        {
          "name": "stderr",
          "output_type": "stream",
          "text": [
            "Epoch 0: 100%|██████████| 29/29 [00:08<00:00,  3.28batch/s, accuracy=32, loss=1.73]\n",
            "Epoch 1: 100%|██████████| 29/29 [00:08<00:00,  3.29batch/s, accuracy=46.8, loss=1.38]\n",
            "Epoch 2: 100%|██████████| 29/29 [00:08<00:00,  3.29batch/s, accuracy=56.3, loss=1.19]\n",
            "Epoch 3: 100%|██████████| 29/29 [00:08<00:00,  3.28batch/s, accuracy=61.8, loss=1.06]\n",
            "Epoch 4: 100%|██████████| 29/29 [00:08<00:00,  3.29batch/s, accuracy=64.4, loss=0.965]\n"
          ]
        },
        {
          "name": "stdout",
          "output_type": "stream",
          "text": [
            "\n",
            "LR=0.03, WD=0.0001\n"
          ]
        },
        {
          "name": "stderr",
          "output_type": "stream",
          "text": [
            "Epoch 0: 100%|██████████| 29/29 [00:08<00:00,  3.28batch/s, accuracy=24.2, loss=1.77]\n",
            "Epoch 1: 100%|██████████| 29/29 [00:08<00:00,  3.28batch/s, accuracy=42.8, loss=1.56]\n",
            "Epoch 2: 100%|██████████| 29/29 [00:08<00:00,  3.28batch/s, accuracy=53.7, loss=1.27]\n",
            "Epoch 3: 100%|██████████| 29/29 [00:08<00:00,  3.28batch/s, accuracy=59.2, loss=1.13]\n",
            "Epoch 4: 100%|██████████| 29/29 [00:08<00:00,  3.27batch/s, accuracy=63, loss=1.04]\n"
          ]
        },
        {
          "name": "stdout",
          "output_type": "stream",
          "text": [
            "\n",
            "LR=0.03, WD=1e-05\n"
          ]
        },
        {
          "name": "stderr",
          "output_type": "stream",
          "text": [
            "Epoch 0: 100%|██████████| 29/29 [00:08<00:00,  3.29batch/s, accuracy=26.9, loss=1.74]\n",
            "Epoch 1: 100%|██████████| 29/29 [00:08<00:00,  3.28batch/s, accuracy=40.2, loss=1.46]\n",
            "Epoch 2: 100%|██████████| 29/29 [00:08<00:00,  3.28batch/s, accuracy=50.3, loss=1.24]\n",
            "Epoch 3: 100%|██████████| 29/29 [00:08<00:00,  3.29batch/s, accuracy=61.2, loss=1.08]\n",
            "Epoch 4: 100%|██████████| 29/29 [00:08<00:00,  3.29batch/s, accuracy=62.6, loss=0.978]\n"
          ]
        },
        {
          "name": "stdout",
          "output_type": "stream",
          "text": [
            "\n",
            "LR=0.03, WD=0.0\n"
          ]
        },
        {
          "name": "stderr",
          "output_type": "stream",
          "text": [
            "Epoch 0: 100%|██████████| 29/29 [00:08<00:00,  3.28batch/s, accuracy=38.9, loss=1.64]\n",
            "Epoch 1: 100%|██████████| 29/29 [00:08<00:00,  3.29batch/s, accuracy=50.9, loss=1.33]\n",
            "Epoch 2: 100%|██████████| 29/29 [00:08<00:00,  3.28batch/s, accuracy=56.6, loss=1.14]\n",
            "Epoch 3: 100%|██████████| 29/29 [00:08<00:00,  3.27batch/s, accuracy=60.9, loss=1.02]\n",
            "Epoch 4: 100%|██████████| 29/29 [00:08<00:00,  3.29batch/s, accuracy=62.8, loss=0.942]\n"
          ]
        },
        {
          "name": "stdout",
          "output_type": "stream",
          "text": [
            "\n",
            "LR=0.02, WD=0.0001\n"
          ]
        },
        {
          "name": "stderr",
          "output_type": "stream",
          "text": [
            "Epoch 0: 100%|██████████| 29/29 [00:08<00:00,  3.29batch/s, accuracy=25.6, loss=1.77]\n",
            "Epoch 1: 100%|██████████| 29/29 [00:08<00:00,  3.28batch/s, accuracy=39.7, loss=1.67]\n",
            "Epoch 2: 100%|██████████| 29/29 [00:08<00:00,  3.28batch/s, accuracy=44.3, loss=1.46]\n",
            "Epoch 3: 100%|██████████| 29/29 [00:08<00:00,  3.29batch/s, accuracy=51.4, loss=1.26]\n",
            "Epoch 4: 100%|██████████| 29/29 [00:08<00:00,  3.27batch/s, accuracy=58.8, loss=1.13]\n"
          ]
        },
        {
          "name": "stdout",
          "output_type": "stream",
          "text": [
            "\n",
            "LR=0.02, WD=1e-05\n"
          ]
        },
        {
          "name": "stderr",
          "output_type": "stream",
          "text": [
            "Epoch 0: 100%|██████████| 29/29 [00:08<00:00,  3.28batch/s, accuracy=30.6, loss=1.75]\n",
            "Epoch 1: 100%|██████████| 29/29 [00:08<00:00,  3.29batch/s, accuracy=40.6, loss=1.53]\n",
            "Epoch 2: 100%|██████████| 29/29 [00:08<00:00,  3.29batch/s, accuracy=48.9, loss=1.32]\n",
            "Epoch 3: 100%|██████████| 29/29 [00:08<00:00,  3.28batch/s, accuracy=57.9, loss=1.17]\n",
            "Epoch 4: 100%|██████████| 29/29 [00:08<00:00,  3.27batch/s, accuracy=64.2, loss=1.03]\n"
          ]
        },
        {
          "name": "stdout",
          "output_type": "stream",
          "text": [
            "\n",
            "LR=0.02, WD=0.0\n"
          ]
        },
        {
          "name": "stderr",
          "output_type": "stream",
          "text": [
            "Epoch 0: 100%|██████████| 29/29 [00:08<00:00,  3.28batch/s, accuracy=28.7, loss=1.76]\n",
            "Epoch 1: 100%|██████████| 29/29 [00:08<00:00,  3.29batch/s, accuracy=43.8, loss=1.59]\n",
            "Epoch 2: 100%|██████████| 29/29 [00:08<00:00,  3.30batch/s, accuracy=53.9, loss=1.35]\n",
            "Epoch 3: 100%|██████████| 29/29 [00:08<00:00,  3.29batch/s, accuracy=59.7, loss=1.15]\n",
            "Epoch 4: 100%|██████████| 29/29 [00:08<00:00,  3.29batch/s, accuracy=63.8, loss=1.02]\n"
          ]
        },
        {
          "name": "stdout",
          "output_type": "stream",
          "text": [
            "\n",
            "LR=0.01, WD=0.0001\n"
          ]
        },
        {
          "name": "stderr",
          "output_type": "stream",
          "text": [
            "Epoch 0: 100%|██████████| 29/29 [00:08<00:00,  3.29batch/s, accuracy=21.6, loss=1.8]\n",
            "Epoch 1: 100%|██████████| 29/29 [00:08<00:00,  3.29batch/s, accuracy=39.1, loss=1.73]\n",
            "Epoch 2: 100%|██████████| 29/29 [00:08<00:00,  3.28batch/s, accuracy=42.9, loss=1.64]\n",
            "Epoch 3: 100%|██████████| 29/29 [00:08<00:00,  3.29batch/s, accuracy=47.2, loss=1.49]\n",
            "Epoch 4: 100%|██████████| 29/29 [00:08<00:00,  3.28batch/s, accuracy=51.3, loss=1.34]\n"
          ]
        },
        {
          "name": "stdout",
          "output_type": "stream",
          "text": [
            "\n",
            "LR=0.01, WD=1e-05\n"
          ]
        },
        {
          "name": "stderr",
          "output_type": "stream",
          "text": [
            "Epoch 0: 100%|██████████| 29/29 [00:09<00:00,  3.22batch/s, accuracy=22, loss=1.78]\n",
            "Epoch 1: 100%|██████████| 29/29 [00:08<00:00,  3.29batch/s, accuracy=37.1, loss=1.7]\n",
            "Epoch 2: 100%|██████████| 29/29 [00:08<00:00,  3.29batch/s, accuracy=41, loss=1.62]\n",
            "Epoch 3: 100%|██████████| 29/29 [00:08<00:00,  3.29batch/s, accuracy=45.8, loss=1.51]\n",
            "Epoch 4: 100%|██████████| 29/29 [00:08<00:00,  3.29batch/s, accuracy=50.7, loss=1.39]\n"
          ]
        },
        {
          "name": "stdout",
          "output_type": "stream",
          "text": [
            "\n",
            "LR=0.01, WD=0.0\n"
          ]
        },
        {
          "name": "stderr",
          "output_type": "stream",
          "text": [
            "Epoch 0: 100%|██████████| 29/29 [00:08<00:00,  3.29batch/s, accuracy=16.6, loss=1.82]\n",
            "Epoch 1: 100%|██████████| 29/29 [00:08<00:00,  3.29batch/s, accuracy=32.3, loss=1.74]\n",
            "Epoch 2: 100%|██████████| 29/29 [00:08<00:00,  3.30batch/s, accuracy=40.5, loss=1.67]\n",
            "Epoch 3: 100%|██████████| 29/29 [00:08<00:00,  3.30batch/s, accuracy=44.9, loss=1.57]\n",
            "Epoch 4: 100%|██████████| 29/29 [00:08<00:00,  3.29batch/s, accuracy=48.4, loss=1.45]\n"
          ]
        },
        {
          "name": "stdout",
          "output_type": "stream",
          "text": [
            "\n",
            "LR=0.009, WD=0.0001\n"
          ]
        },
        {
          "name": "stderr",
          "output_type": "stream",
          "text": [
            "Epoch 0: 100%|██████████| 29/29 [00:08<00:00,  3.27batch/s, accuracy=23.2, loss=1.79]\n",
            "Epoch 1: 100%|██████████| 29/29 [00:08<00:00,  3.29batch/s, accuracy=40, loss=1.7]\n",
            "Epoch 2: 100%|██████████| 29/29 [00:08<00:00,  3.29batch/s, accuracy=43.3, loss=1.59]\n",
            "Epoch 3: 100%|██████████| 29/29 [00:08<00:00,  3.28batch/s, accuracy=48.1, loss=1.47]\n",
            "Epoch 4: 100%|██████████| 29/29 [00:08<00:00,  3.29batch/s, accuracy=50.6, loss=1.35]\n"
          ]
        },
        {
          "name": "stdout",
          "output_type": "stream",
          "text": [
            "\n",
            "LR=0.009, WD=1e-05\n"
          ]
        },
        {
          "name": "stderr",
          "output_type": "stream",
          "text": [
            "Epoch 0: 100%|██████████| 29/29 [00:08<00:00,  3.30batch/s, accuracy=25.2, loss=1.76]\n",
            "Epoch 1: 100%|██████████| 29/29 [00:08<00:00,  3.29batch/s, accuracy=40, loss=1.66]\n",
            "Epoch 2: 100%|██████████| 29/29 [00:08<00:00,  3.29batch/s, accuracy=42.3, loss=1.56]\n",
            "Epoch 3: 100%|██████████| 29/29 [00:08<00:00,  3.28batch/s, accuracy=49.2, loss=1.44]\n",
            "Epoch 4: 100%|██████████| 29/29 [00:08<00:00,  3.28batch/s, accuracy=52.9, loss=1.33]\n"
          ]
        },
        {
          "name": "stdout",
          "output_type": "stream",
          "text": [
            "\n",
            "LR=0.009, WD=0.0\n"
          ]
        },
        {
          "name": "stderr",
          "output_type": "stream",
          "text": [
            "Epoch 0: 100%|██████████| 29/29 [00:08<00:00,  3.30batch/s, accuracy=27.4, loss=1.78]\n",
            "Epoch 1: 100%|██████████| 29/29 [00:08<00:00,  3.28batch/s, accuracy=35.9, loss=1.71]\n",
            "Epoch 2: 100%|██████████| 29/29 [00:08<00:00,  3.28batch/s, accuracy=39.7, loss=1.63]\n",
            "Epoch 3: 100%|██████████| 29/29 [00:08<00:00,  3.29batch/s, accuracy=46.6, loss=1.5]\n",
            "Epoch 4: 100%|██████████| 29/29 [00:08<00:00,  3.28batch/s, accuracy=50.6, loss=1.35]\n"
          ]
        },
        {
          "name": "stdout",
          "output_type": "stream",
          "text": [
            "\n",
            "LR=0.008, WD=0.0001\n"
          ]
        },
        {
          "name": "stderr",
          "output_type": "stream",
          "text": [
            "Epoch 0: 100%|██████████| 29/29 [00:08<00:00,  3.27batch/s, accuracy=14.5, loss=1.82]\n",
            "Epoch 1: 100%|██████████| 29/29 [00:08<00:00,  3.29batch/s, accuracy=24.6, loss=1.77]\n",
            "Epoch 2: 100%|██████████| 29/29 [00:08<00:00,  3.28batch/s, accuracy=39.4, loss=1.72]\n",
            "Epoch 3: 100%|██████████| 29/29 [00:08<00:00,  3.27batch/s, accuracy=41.3, loss=1.66]\n",
            "Epoch 4: 100%|██████████| 29/29 [00:08<00:00,  3.28batch/s, accuracy=43, loss=1.57]\n"
          ]
        },
        {
          "name": "stdout",
          "output_type": "stream",
          "text": [
            "\n",
            "LR=0.008, WD=1e-05\n"
          ]
        },
        {
          "name": "stderr",
          "output_type": "stream",
          "text": [
            "Epoch 0: 100%|██████████| 29/29 [00:08<00:00,  3.28batch/s, accuracy=33.4, loss=1.81]\n",
            "Epoch 1: 100%|██████████| 29/29 [00:08<00:00,  3.27batch/s, accuracy=37.8, loss=1.75]\n",
            "Epoch 2: 100%|██████████| 29/29 [00:08<00:00,  3.28batch/s, accuracy=39.5, loss=1.72]\n",
            "Epoch 3: 100%|██████████| 29/29 [00:08<00:00,  3.29batch/s, accuracy=40.2, loss=1.67]\n",
            "Epoch 4: 100%|██████████| 29/29 [00:08<00:00,  3.28batch/s, accuracy=40.1, loss=1.6]\n"
          ]
        },
        {
          "name": "stdout",
          "output_type": "stream",
          "text": [
            "\n",
            "LR=0.008, WD=0.0\n"
          ]
        },
        {
          "name": "stderr",
          "output_type": "stream",
          "text": [
            "Epoch 0: 100%|██████████| 29/29 [00:08<00:00,  3.28batch/s, accuracy=21.5, loss=1.77]\n",
            "Epoch 1: 100%|██████████| 29/29 [00:08<00:00,  3.29batch/s, accuracy=35.3, loss=1.68]\n",
            "Epoch 2: 100%|██████████| 29/29 [00:08<00:00,  3.29batch/s, accuracy=43.5, loss=1.58]\n",
            "Epoch 3: 100%|██████████| 29/29 [00:08<00:00,  3.28batch/s, accuracy=47.5, loss=1.47]\n",
            "Epoch 4: 100%|██████████| 29/29 [00:08<00:00,  3.29batch/s, accuracy=52.8, loss=1.35]\n"
          ]
        },
        {
          "name": "stdout",
          "output_type": "stream",
          "text": [
            "\n",
            "LR=0.007, WD=0.0001\n"
          ]
        },
        {
          "name": "stderr",
          "output_type": "stream",
          "text": [
            "Epoch 0: 100%|██████████| 29/29 [00:08<00:00,  3.29batch/s, accuracy=18.6, loss=1.8]\n",
            "Epoch 1: 100%|██████████| 29/29 [00:08<00:00,  3.28batch/s, accuracy=27, loss=1.73]\n",
            "Epoch 2: 100%|██████████| 29/29 [00:08<00:00,  3.29batch/s, accuracy=35.8, loss=1.66]\n",
            "Epoch 3: 100%|██████████| 29/29 [00:08<00:00,  3.28batch/s, accuracy=44.3, loss=1.56]\n",
            "Epoch 4: 100%|██████████| 29/29 [00:08<00:00,  3.28batch/s, accuracy=44.3, loss=1.45]\n"
          ]
        },
        {
          "name": "stdout",
          "output_type": "stream",
          "text": [
            "\n",
            "LR=0.007, WD=1e-05\n"
          ]
        },
        {
          "name": "stderr",
          "output_type": "stream",
          "text": [
            "Epoch 0: 100%|██████████| 29/29 [00:08<00:00,  3.29batch/s, accuracy=27.6, loss=1.76]\n",
            "Epoch 1: 100%|██████████| 29/29 [00:08<00:00,  3.28batch/s, accuracy=43.7, loss=1.7]\n",
            "Epoch 2: 100%|██████████| 29/29 [00:08<00:00,  3.28batch/s, accuracy=47.1, loss=1.63]\n",
            "Epoch 3: 100%|██████████| 29/29 [00:08<00:00,  3.29batch/s, accuracy=46.9, loss=1.54]\n",
            "Epoch 4: 100%|██████████| 29/29 [00:08<00:00,  3.27batch/s, accuracy=50.1, loss=1.44]\n"
          ]
        },
        {
          "name": "stdout",
          "output_type": "stream",
          "text": [
            "\n",
            "LR=0.007, WD=0.0\n"
          ]
        },
        {
          "name": "stderr",
          "output_type": "stream",
          "text": [
            "Epoch 0: 100%|██████████| 29/29 [00:08<00:00,  3.27batch/s, accuracy=24.4, loss=1.75]\n",
            "Epoch 1: 100%|██████████| 29/29 [00:08<00:00,  3.29batch/s, accuracy=37.6, loss=1.7]\n",
            "Epoch 2: 100%|██████████| 29/29 [00:08<00:00,  3.29batch/s, accuracy=45.4, loss=1.64]\n",
            "Epoch 3: 100%|██████████| 29/29 [00:08<00:00,  3.28batch/s, accuracy=48, loss=1.55]\n",
            "Epoch 4: 100%|██████████| 29/29 [00:08<00:00,  3.29batch/s, accuracy=49.9, loss=1.46]\n"
          ]
        },
        {
          "name": "stdout",
          "output_type": "stream",
          "text": [
            "\n",
            "LR=0.006, WD=0.0001\n"
          ]
        },
        {
          "name": "stderr",
          "output_type": "stream",
          "text": [
            "Epoch 0: 100%|██████████| 29/29 [00:09<00:00,  3.22batch/s, accuracy=16.8, loss=1.89]\n",
            "Epoch 1: 100%|██████████| 29/29 [00:08<00:00,  3.28batch/s, accuracy=19.1, loss=1.8]\n",
            "Epoch 2: 100%|██████████| 29/29 [00:08<00:00,  3.29batch/s, accuracy=32.6, loss=1.77]\n",
            "Epoch 3: 100%|██████████| 29/29 [00:08<00:00,  3.29batch/s, accuracy=36.8, loss=1.75]\n",
            "Epoch 4: 100%|██████████| 29/29 [00:08<00:00,  3.29batch/s, accuracy=38.8, loss=1.72]\n"
          ]
        },
        {
          "name": "stdout",
          "output_type": "stream",
          "text": [
            "\n",
            "LR=0.006, WD=1e-05\n"
          ]
        },
        {
          "name": "stderr",
          "output_type": "stream",
          "text": [
            "Epoch 0: 100%|██████████| 29/29 [00:08<00:00,  3.28batch/s, accuracy=19.7, loss=1.84]\n",
            "Epoch 1: 100%|██████████| 29/29 [00:08<00:00,  3.28batch/s, accuracy=33, loss=1.74]\n",
            "Epoch 2: 100%|██████████| 29/29 [00:08<00:00,  3.28batch/s, accuracy=36.3, loss=1.7]\n",
            "Epoch 3: 100%|██████████| 29/29 [00:08<00:00,  3.28batch/s, accuracy=36.6, loss=1.64]\n",
            "Epoch 4: 100%|██████████| 29/29 [00:08<00:00,  3.28batch/s, accuracy=38.9, loss=1.58]\n"
          ]
        },
        {
          "name": "stdout",
          "output_type": "stream",
          "text": [
            "\n",
            "LR=0.006, WD=0.0\n"
          ]
        },
        {
          "name": "stderr",
          "output_type": "stream",
          "text": [
            "Epoch 0: 100%|██████████| 29/29 [00:08<00:00,  3.28batch/s, accuracy=20.1, loss=1.84]\n",
            "Epoch 1: 100%|██████████| 29/29 [00:08<00:00,  3.28batch/s, accuracy=31, loss=1.74]\n",
            "Epoch 2: 100%|██████████| 29/29 [00:08<00:00,  3.29batch/s, accuracy=36.5, loss=1.71]\n",
            "Epoch 3: 100%|██████████| 29/29 [00:08<00:00,  3.28batch/s, accuracy=38.3, loss=1.66]\n",
            "Epoch 4: 100%|██████████| 29/29 [00:08<00:00,  3.28batch/s, accuracy=40.2, loss=1.6]\n"
          ]
        },
        {
          "name": "stdout",
          "output_type": "stream",
          "text": [
            "\n",
            "LR=0.005, WD=0.0001\n"
          ]
        },
        {
          "name": "stderr",
          "output_type": "stream",
          "text": [
            "Epoch 0: 100%|██████████| 29/29 [00:08<00:00,  3.28batch/s, accuracy=18.7, loss=1.85]\n",
            "Epoch 1: 100%|██████████| 29/29 [00:08<00:00,  3.28batch/s, accuracy=13.2, loss=1.8]\n",
            "Epoch 2: 100%|██████████| 29/29 [00:08<00:00,  3.29batch/s, accuracy=24, loss=1.78]\n",
            "Epoch 3: 100%|██████████| 29/29 [00:08<00:00,  3.29batch/s, accuracy=28.7, loss=1.76]\n",
            "Epoch 4: 100%|██████████| 29/29 [00:08<00:00,  3.28batch/s, accuracy=30, loss=1.73]\n"
          ]
        },
        {
          "name": "stdout",
          "output_type": "stream",
          "text": [
            "\n",
            "LR=0.005, WD=1e-05\n"
          ]
        },
        {
          "name": "stderr",
          "output_type": "stream",
          "text": [
            "Epoch 0: 100%|██████████| 29/29 [00:08<00:00,  3.29batch/s, accuracy=12.5, loss=1.83]\n",
            "Epoch 1: 100%|██████████| 29/29 [00:08<00:00,  3.29batch/s, accuracy=18.5, loss=1.78]\n",
            "Epoch 2: 100%|██████████| 29/29 [00:08<00:00,  3.29batch/s, accuracy=25, loss=1.76]\n",
            "Epoch 3: 100%|██████████| 29/29 [00:08<00:00,  3.29batch/s, accuracy=27.6, loss=1.73]\n",
            "Epoch 4: 100%|██████████| 29/29 [00:08<00:00,  3.29batch/s, accuracy=32, loss=1.69]\n"
          ]
        },
        {
          "name": "stdout",
          "output_type": "stream",
          "text": [
            "\n",
            "LR=0.005, WD=0.0\n"
          ]
        },
        {
          "name": "stderr",
          "output_type": "stream",
          "text": [
            "Epoch 0: 100%|██████████| 29/29 [00:08<00:00,  3.28batch/s, accuracy=4.27, loss=1.82]\n",
            "Epoch 1: 100%|██████████| 29/29 [00:08<00:00,  3.28batch/s, accuracy=29.2, loss=1.78]\n",
            "Epoch 2: 100%|██████████| 29/29 [00:08<00:00,  3.28batch/s, accuracy=37.9, loss=1.74]\n",
            "Epoch 3: 100%|██████████| 29/29 [00:08<00:00,  3.29batch/s, accuracy=38.3, loss=1.71]\n",
            "Epoch 4: 100%|██████████| 29/29 [00:08<00:00,  3.28batch/s, accuracy=37.9, loss=1.66]"
          ]
        },
        {
          "name": "stdout",
          "output_type": "stream",
          "text": [
            "\n"
          ]
        },
        {
          "name": "stderr",
          "output_type": "stream",
          "text": [
            "\n"
          ]
        }
      ],
      "source": [
        "num_epochs = 5\n",
        "\n",
        "for lr in [0.05, 0.04, 0.03, 0.02, 0.01, 0.009, 0.008, 0.007, 0.006, 0.005]:\n",
        "  for wd in [1e-4, 1e-5, 0.]:\n",
        "    model = EncoderTransformer(128, 8, 8, 256, 0.1, \"relu\").to(device)\n",
        "    optimizer = optim.SGD(model.parameters(), lr=lr, weight_decay=wd)\n",
        "    print(f'LR={lr}, WD={wd}')\n",
        "\n",
        "    for epoch in range(num_epochs):\n",
        "      model, loss, _ = train_one_epoch(model, train_loader, loss_fn, optimizer, epoch)\n",
        "    print()"
      ]
    },
    {
      "cell_type": "markdown",
      "id": "51271938",
      "metadata": {},
      "source": [
        "## Train Model"
      ]
    },
    {
      "cell_type": "code",
      "execution_count": null,
      "id": "d046c1fc",
      "metadata": {
        "colab": {
          "base_uri": "https://localhost:8080/"
        },
        "id": "d046c1fc",
        "outputId": "4e0fda23-5bc5-4c41-ecd5-af046c7eff30"
      },
      "outputs": [
        {
          "name": "stderr",
          "output_type": "stream",
          "text": [
            "/usr/local/lib/python3.11/dist-packages/torch/nn/modules/transformer.py:385: UserWarning: enable_nested_tensor is True, but self.use_nested_tensor is False because encoder_layer.self_attn.batch_first was not True(use batch_first for better inference performance)\n",
            "  warnings.warn(\n"
          ]
        }
      ],
      "source": [
        "model = EncoderTransformer(128, 8, 8, 256, 0.1, 'relu').to(device)"
      ]
    },
    {
      "cell_type": "code",
      "execution_count": null,
      "id": "52a66439",
      "metadata": {
        "id": "52a66439"
      },
      "outputs": [],
      "source": [
        "lr = 0.04\n",
        "wd = 1e-5\n",
        "optimizer = optim.SGD(model.parameters(), lr=lr, weight_decay=wd, momentum=0.9)"
      ]
    },
    {
      "cell_type": "code",
      "execution_count": null,
      "id": "a8ec0a71",
      "metadata": {
        "id": "a8ec0a71"
      },
      "outputs": [],
      "source": [
        "loss_train_hist = []\n",
        "loss_valid_hist = []\n",
        "\n",
        "acc_train_hist = []\n",
        "acc_valid_hist = []\n",
        "\n",
        "best_loss_valid = torch.inf\n",
        "epoch_counter = 0"
      ]
    },
    {
      "cell_type": "code",
      "execution_count": null,
      "id": "146f6c71",
      "metadata": {
        "colab": {
          "base_uri": "https://localhost:8080/"
        },
        "id": "146f6c71",
        "outputId": "e70907bc-1223-44bd-832a-99153f8ef72a"
      },
      "outputs": [
        {
          "name": "stderr",
          "output_type": "stream",
          "text": [
            "Epoch 0: 100%|██████████| 29/29 [00:08<00:00,  3.23batch/s, accuracy=42.2, loss=1.41]\n"
          ]
        },
        {
          "name": "stdout",
          "output_type": "stream",
          "text": [
            "Valid: Loss = 0.9989, Acc = 0.5545\n",
            "\n"
          ]
        },
        {
          "name": "stderr",
          "output_type": "stream",
          "text": [
            "Epoch 1: 100%|██████████| 29/29 [00:09<00:00,  3.20batch/s, accuracy=72.9, loss=0.697]\n"
          ]
        },
        {
          "name": "stdout",
          "output_type": "stream",
          "text": [
            "Valid: Loss = 0.6802, Acc = 0.7055\n",
            "\n"
          ]
        },
        {
          "name": "stderr",
          "output_type": "stream",
          "text": [
            "Epoch 2: 100%|██████████| 29/29 [00:09<00:00,  3.20batch/s, accuracy=79.3, loss=0.529]\n"
          ]
        },
        {
          "name": "stdout",
          "output_type": "stream",
          "text": [
            "Valid: Loss = 0.5617, Acc = 0.811\n",
            "\n"
          ]
        },
        {
          "name": "stderr",
          "output_type": "stream",
          "text": [
            "Epoch 3: 100%|██████████| 29/29 [00:08<00:00,  3.23batch/s, accuracy=84.2, loss=0.429]\n"
          ]
        },
        {
          "name": "stdout",
          "output_type": "stream",
          "text": [
            "Valid: Loss = 0.5336, Acc = 0.828\n",
            "\n"
          ]
        },
        {
          "name": "stderr",
          "output_type": "stream",
          "text": [
            "Epoch 4: 100%|██████████| 29/29 [00:08<00:00,  3.25batch/s, accuracy=88, loss=0.348]\n"
          ]
        },
        {
          "name": "stdout",
          "output_type": "stream",
          "text": [
            "Valid: Loss = 0.5297, Acc = 0.8358\n",
            "\n"
          ]
        },
        {
          "name": "stderr",
          "output_type": "stream",
          "text": [
            "Epoch 5: 100%|██████████| 29/29 [00:08<00:00,  3.28batch/s, accuracy=89.6, loss=0.291]\n"
          ]
        },
        {
          "name": "stdout",
          "output_type": "stream",
          "text": [
            "Valid: Loss = 0.4787, Acc = 0.8711\n",
            "\n"
          ]
        },
        {
          "name": "stderr",
          "output_type": "stream",
          "text": [
            "Epoch 6: 100%|██████████| 29/29 [00:08<00:00,  3.30batch/s, accuracy=91.6, loss=0.245]\n"
          ]
        },
        {
          "name": "stdout",
          "output_type": "stream",
          "text": [
            "Valid: Loss = 0.5091, Acc = 0.8381\n",
            "\n"
          ]
        },
        {
          "name": "stderr",
          "output_type": "stream",
          "text": [
            "Epoch 7: 100%|██████████| 29/29 [00:08<00:00,  3.31batch/s, accuracy=92.4, loss=0.221]\n"
          ]
        },
        {
          "name": "stdout",
          "output_type": "stream",
          "text": [
            "Valid: Loss = 0.4471, Acc = 0.8616\n",
            "\n"
          ]
        },
        {
          "name": "stderr",
          "output_type": "stream",
          "text": [
            "Epoch 8: 100%|██████████| 29/29 [00:08<00:00,  3.30batch/s, accuracy=93.2, loss=0.188]\n"
          ]
        },
        {
          "name": "stdout",
          "output_type": "stream",
          "text": [
            "Valid: Loss = 0.4163, Acc = 0.8907\n",
            "\n"
          ]
        },
        {
          "name": "stderr",
          "output_type": "stream",
          "text": [
            "Epoch 9: 100%|██████████| 29/29 [00:08<00:00,  3.31batch/s, accuracy=93.9, loss=0.165]\n"
          ]
        },
        {
          "name": "stdout",
          "output_type": "stream",
          "text": [
            "Valid: Loss = 0.4055, Acc = 0.9016\n",
            "\n"
          ]
        },
        {
          "name": "stderr",
          "output_type": "stream",
          "text": [
            "Epoch 10: 100%|██████████| 29/29 [00:08<00:00,  3.28batch/s, accuracy=94.1, loss=0.156]\n"
          ]
        },
        {
          "name": "stdout",
          "output_type": "stream",
          "text": [
            "Valid: Loss = 0.4023, Acc = 0.8863\n",
            "\n"
          ]
        },
        {
          "name": "stderr",
          "output_type": "stream",
          "text": [
            "Epoch 11: 100%|██████████| 29/29 [00:08<00:00,  3.27batch/s, accuracy=93.7, loss=0.156]\n"
          ]
        },
        {
          "name": "stdout",
          "output_type": "stream",
          "text": [
            "Valid: Loss = 0.4035, Acc = 0.904\n",
            "\n"
          ]
        },
        {
          "name": "stderr",
          "output_type": "stream",
          "text": [
            "Epoch 12: 100%|██████████| 29/29 [00:08<00:00,  3.26batch/s, accuracy=94.8, loss=0.133]\n"
          ]
        },
        {
          "name": "stdout",
          "output_type": "stream",
          "text": [
            "Valid: Loss = 0.3884, Acc = 0.8782\n",
            "\n"
          ]
        },
        {
          "name": "stderr",
          "output_type": "stream",
          "text": [
            "Epoch 13: 100%|██████████| 29/29 [00:08<00:00,  3.27batch/s, accuracy=94.4, loss=0.132]\n"
          ]
        },
        {
          "name": "stdout",
          "output_type": "stream",
          "text": [
            "Valid: Loss = 0.4217, Acc = 0.8924\n",
            "\n"
          ]
        },
        {
          "name": "stderr",
          "output_type": "stream",
          "text": [
            "Epoch 14: 100%|██████████| 29/29 [00:08<00:00,  3.27batch/s, accuracy=95, loss=0.122]\n"
          ]
        },
        {
          "name": "stdout",
          "output_type": "stream",
          "text": [
            "Valid: Loss = 0.4304, Acc = 0.8904\n",
            "\n"
          ]
        },
        {
          "name": "stderr",
          "output_type": "stream",
          "text": [
            "Epoch 15: 100%|██████████| 29/29 [00:08<00:00,  3.27batch/s, accuracy=95.2, loss=0.118]\n"
          ]
        },
        {
          "name": "stdout",
          "output_type": "stream",
          "text": [
            "Valid: Loss = 0.426, Acc = 0.9006\n",
            "\n"
          ]
        },
        {
          "name": "stderr",
          "output_type": "stream",
          "text": [
            "Epoch 16: 100%|██████████| 29/29 [00:08<00:00,  3.27batch/s, accuracy=95.2, loss=0.114]\n"
          ]
        },
        {
          "name": "stdout",
          "output_type": "stream",
          "text": [
            "Valid: Loss = 0.4197, Acc = 0.8992\n",
            "\n"
          ]
        },
        {
          "name": "stderr",
          "output_type": "stream",
          "text": [
            "Epoch 17: 100%|██████████| 29/29 [00:08<00:00,  3.29batch/s, accuracy=94.6, loss=0.125]\n"
          ]
        },
        {
          "name": "stdout",
          "output_type": "stream",
          "text": [
            "Valid: Loss = 0.4068, Acc = 0.9077\n",
            "\n"
          ]
        },
        {
          "name": "stderr",
          "output_type": "stream",
          "text": [
            "Epoch 18: 100%|██████████| 29/29 [00:08<00:00,  3.26batch/s, accuracy=95.3, loss=0.111]\n"
          ]
        },
        {
          "name": "stdout",
          "output_type": "stream",
          "text": [
            "Valid: Loss = 0.4127, Acc = 0.9084\n",
            "\n"
          ]
        },
        {
          "name": "stderr",
          "output_type": "stream",
          "text": [
            "Epoch 19: 100%|██████████| 29/29 [00:08<00:00,  3.28batch/s, accuracy=95.3, loss=0.109]\n"
          ]
        },
        {
          "name": "stdout",
          "output_type": "stream",
          "text": [
            "Valid: Loss = 0.4823, Acc = 0.8887\n",
            "\n"
          ]
        }
      ],
      "source": [
        "num_epochs = 20\n",
        "\n",
        "for epoch in range(num_epochs):\n",
        "  # Train\n",
        "  model, loss_train, acc_train = train_one_epoch(model,\n",
        "                                                 train_loader,\n",
        "                                                 loss_fn,\n",
        "                                                 optimizer,\n",
        "                                                 epoch)\n",
        "  # Validation\n",
        "  loss_valid, acc_valid = validation(model,\n",
        "                                     test_loader,\n",
        "                                     loss_fn)\n",
        "\n",
        "  loss_train_hist.append(loss_train)\n",
        "  loss_valid_hist.append(loss_valid)\n",
        "\n",
        "  acc_train_hist.append(acc_train)\n",
        "  acc_valid_hist.append(acc_valid)\n",
        "\n",
        "  if loss_valid < best_loss_valid:\n",
        "    torch.save(model, f'model.pt')\n",
        "    best_loss_valid = loss_valid\n",
        "\n",
        "  print(f'Valid: Loss = {loss_valid:.4}, Acc = {acc_valid:.4}')\n",
        "  print()\n",
        "\n",
        "  epoch_counter += 1"
      ]
    },
    {
      "cell_type": "markdown",
      "id": "573dfd54",
      "metadata": {},
      "source": [
        "## Visualize"
      ]
    },
    {
      "cell_type": "code",
      "execution_count": null,
      "id": "d588e5e6",
      "metadata": {
        "colab": {
          "base_uri": "https://localhost:8080/",
          "height": 466
        },
        "id": "d588e5e6",
        "outputId": "7eddcf81-a7f7-4736-d861-69f5b7b777ee"
      },
      "outputs": [
        {
          "data": {
            "text/plain": [
              "<matplotlib.legend.Legend at 0x79a4afdfbc10>"
            ]
          },
          "execution_count": 35,
          "metadata": {},
          "output_type": "execute_result"
        },
        {
          "data": {
            "image/png": "[encoded data removed]",
            "text/plain": [
              "<Figure size 640x480 with 1 Axes>"
            ]
          },
          "metadata": {},
          "output_type": "display_data"
        }
      ],
      "source": [
        "plt.plot(range(epoch_counter), loss_train_hist, 'r-', label='Train')\n",
        "plt.plot(range(epoch_counter), loss_valid_hist, 'b-', label='Validation')\n",
        "\n",
        "plt.xlabel('Epoch')\n",
        "plt.ylabel('loss')\n",
        "plt.grid(True)\n",
        "plt.legend()"
      ]
    },
    {
      "cell_type": "code",
      "execution_count": null,
      "id": "x8zgRF6rZudG",
      "metadata": {
        "colab": {
          "base_uri": "https://localhost:8080/",
          "height": 466
        },
        "id": "x8zgRF6rZudG",
        "outputId": "23ede89e-0e65-46f7-dab6-da55abe193a6"
      },
      "outputs": [
        {
          "data": {
            "text/plain": [
              "<matplotlib.legend.Legend at 0x79a4ac30ee10>"
            ]
          },
          "execution_count": 36,
          "metadata": {},
          "output_type": "execute_result"
        },
        {
          "data": {
            "image/png": "[encoded data removed]",
            "text/plain": [
              "<Figure size 640x480 with 1 Axes>"
            ]
          },
          "metadata": {},
          "output_type": "display_data"
        }
      ],
      "source": [
        "plt.plot(range(epoch_counter), acc_train_hist, 'r-', label='Train')\n",
        "plt.plot(range(epoch_counter), acc_valid_hist, 'b-', label='Validation')\n",
        "\n",
        "plt.xlabel('Epoch')\n",
        "plt.ylabel('Accuracy')\n",
        "plt.grid(True)\n",
        "plt.legend()"
      ]
    }
  ],
  "metadata": {
    "accelerator": "GPU",
    "colab": {
      "gpuType": "T4",
      "provenance": []
    },
    "kernelspec": {
      "display_name": "base",
      "language": "python",
      "name": "python3"
    },
    "language_info": {
      "codemirror_mode": {
        "name": "ipython",
        "version": 3
      },
      "file_extension": ".py",
      "mimetype": "text/x-python",
      "name": "python",
      "nbconvert_exporter": "python",
      "pygments_lexer": "ipython3",
      "version": "3.11.3"
    }
  },
  "nbformat": 4,
  "nbformat_minor": 5
}
