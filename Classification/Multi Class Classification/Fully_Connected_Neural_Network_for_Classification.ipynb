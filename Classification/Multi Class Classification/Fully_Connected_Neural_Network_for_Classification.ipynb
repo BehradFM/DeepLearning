{
 "cells": [
  {
   "cell_type": "markdown",
   "id": "4088cc7b",
   "metadata": {},
   "source": [
    "# Fully Connected Neural Network for Classification"
   ]
  },
  {
   "cell_type": "markdown",
   "id": "da5b8df2",
   "metadata": {},
   "source": [
    "## Import"
   ]
  },
  {
   "cell_type": "code",
   "execution_count": 1,
   "id": "0fe7bc34",
   "metadata": {},
   "outputs": [],
   "source": [
    "import torch\n",
    "from torch.utils.data import  TensorDataset , DataLoader\n",
    "import torch.nn as nn\n",
    "from torchmetrics import R2Score , Accuracy\n",
    "import torch.optim as optim\n",
    "\n",
    "\n",
    "import pandas as pd\n",
    "import matplotlib.pyplot as plt\n",
    "from sklearn.model_selection import train_test_split"
   ]
  },
  {
   "cell_type": "markdown",
   "id": "e50c0b43",
   "metadata": {},
   "source": [
    "## Load and Prepare Data"
   ]
  },
  {
   "cell_type": "code",
   "execution_count": 2,
   "id": "9dec70f3",
   "metadata": {},
   "outputs": [
    {
     "data": {
      "text/plain": [
       "((1500, 20), (500, 20), (1500,), (500,))"
      ]
     },
     "execution_count": 2,
     "metadata": {},
     "output_type": "execute_result"
    }
   ],
   "source": [
    "df_train = pd.read_csv(\"Data/train.csv\")\n",
    "df_test = pd.read_csv(\"Data/test_with_price_range.csv\")\n",
    "\n",
    "x = df_train.drop('price_range' , axis=1)\n",
    "y = df_train['price_range']\n",
    "\n",
    "x_train , x_valid , y_train , y_valid = train_test_split(x , y , train_size=0.75 , random_state=8)\n",
    "x_train.shape , x_valid.shape , y_train.shape , y_valid.shape"
   ]
  },
  {
   "cell_type": "code",
   "execution_count": 3,
   "id": "90113e29",
   "metadata": {},
   "outputs": [],
   "source": [
    "x_train = torch.FloatTensor(x_train.values)\n",
    "y_train = torch.LongTensor(y_train.values).squeeze()\n",
    "\n",
    "x_valid = torch.FloatTensor(x_valid.values)\n",
    "y_valid = torch.LongTensor(y_valid.values).squeeze()"
   ]
  },
  {
   "cell_type": "code",
   "execution_count": 4,
   "id": "415f8219",
   "metadata": {},
   "outputs": [],
   "source": [
    "Mean = x_train.mean(dim=0)\n",
    "Std = x_train.std(dim=0)\n",
    "\n",
    "x_train = (x_train - Mean) / Std\n",
    "x_valid = (x_valid - Mean) / Std"
   ]
  },
  {
   "cell_type": "code",
   "execution_count": 5,
   "id": "934900a2",
   "metadata": {},
   "outputs": [],
   "source": [
    "train_data = TensorDataset(x_train , y_train)\n",
    "train_dataloader = DataLoader(train_data , 200 , shuffle=True)\n"
   ]
  },
  {
   "cell_type": "code",
   "execution_count": 6,
   "id": "d0bd7cbd",
   "metadata": {},
   "outputs": [],
   "source": [
    "valid_dataset = TensorDataset(x_valid, y_valid)\n",
    "valid_dataloader = DataLoader(valid_dataset, batch_size=100, shuffle=False)\n"
   ]
  },
  {
   "cell_type": "markdown",
   "id": "970f304f",
   "metadata": {},
   "source": [
    "## Model"
   ]
  },
  {
   "cell_type": "code",
   "execution_count": 7,
   "id": "9808b9e8",
   "metadata": {},
   "outputs": [],
   "source": [
    "num_feats = 20\n",
    "num_class = 4\n",
    "h1 = 64\n",
    "h2 = 32\n",
    "\n",
    "model = nn.Sequential(nn.Linear(num_feats, h1),\n",
    "                      nn.ReLU(),\n",
    "                      nn.Linear(h1, h2),\n",
    "                      nn.ReLU(),\n",
    "                      nn.Linear(h2, num_class))"
   ]
  },
  {
   "cell_type": "code",
   "execution_count": 8,
   "id": "e011e061",
   "metadata": {},
   "outputs": [],
   "source": [
    "loss_fn = nn.CrossEntropyLoss()\n",
    "optimizer = optim.SGD(model.parameters(), lr=0.02)\n"
   ]
  },
  {
   "cell_type": "code",
   "execution_count": 9,
   "id": "1ba7cf5b",
   "metadata": {},
   "outputs": [],
   "source": [
    "device = 'cuda' if torch.cuda.is_available() else 'cpu'\n",
    "model = model.to(device)"
   ]
  },
  {
   "cell_type": "markdown",
   "id": "663f100b",
   "metadata": {},
   "source": [
    "##  Train The Model"
   ]
  },
  {
   "cell_type": "code",
   "execution_count": 10,
   "id": "6dbb210c",
   "metadata": {},
   "outputs": [],
   "source": [
    "class AverageMeter(object):\n",
    "    \"\"\"Computes and stores the average and current value\"\"\"\n",
    "    def __init__(self):\n",
    "        self.reset()\n",
    "\n",
    "    def reset(self):\n",
    "        self.val = 0\n",
    "        self.avg = 0\n",
    "        self.sum = 0\n",
    "        self.count = 0\n",
    "\n",
    "    def update(self, val, n=1):\n",
    "        self.val = val\n",
    "        self.sum += val * n\n",
    "        self.count += n\n",
    "        self.avg = self.sum / self.count"
   ]
  },
  {
   "cell_type": "code",
   "execution_count": 11,
   "id": "3451574f",
   "metadata": {},
   "outputs": [
    {
     "name": "stdout",
     "output_type": "stream",
     "text": [
      "Epoch 0\n",
      "Train: Loss = 1.38, Acc = 0.264\n",
      "Valid: Loss = 1.378, Acc = 0.28\n",
      "\n",
      "Epoch 10\n",
      "Train: Loss = 1.342, Acc = 0.44\n",
      "Valid: Loss = 1.34, Acc = 0.422\n",
      "\n",
      "Epoch 20\n",
      "Train: Loss = 1.271, Acc = 0.5267\n",
      "Valid: Loss = 1.267, Acc = 0.526\n",
      "\n",
      "Epoch 30\n",
      "Train: Loss = 1.129, Acc = 0.5693\n",
      "Valid: Loss = 1.124, Acc = 0.582\n",
      "\n",
      "Epoch 40\n",
      "Train: Loss = 0.9421, Acc = 0.61\n",
      "Valid: Loss = 0.9371, Acc = 0.624\n",
      "\n",
      "Epoch 50\n",
      "Train: Loss = 0.7794, Acc = 0.7207\n",
      "Valid: Loss = 0.7775, Acc = 0.72\n",
      "\n",
      "Epoch 60\n",
      "Train: Loss = 0.6531, Acc = 0.83\n",
      "Valid: Loss = 0.6564, Acc = 0.822\n",
      "\n",
      "Epoch 70\n",
      "Train: Loss = 0.5588, Acc = 0.872\n",
      "Valid: Loss = 0.5632, Acc = 0.858\n",
      "\n",
      "Epoch 80\n",
      "Train: Loss = 0.4789, Acc = 0.8973\n",
      "Valid: Loss = 0.4903, Acc = 0.882\n",
      "\n",
      "Epoch 90\n",
      "Train: Loss = 0.4162, Acc = 0.9127\n",
      "Valid: Loss = 0.4331, Acc = 0.892\n",
      "\n",
      "Epoch 100\n",
      "Train: Loss = 0.3685, Acc = 0.924\n",
      "Valid: Loss = 0.3868, Acc = 0.904\n",
      "\n",
      "Epoch 110\n",
      "Train: Loss = 0.3242, Acc = 0.9347\n",
      "Valid: Loss = 0.35, Acc = 0.91\n",
      "\n",
      "Epoch 120\n",
      "Train: Loss = 0.2948, Acc = 0.948\n",
      "Valid: Loss = 0.32, Acc = 0.916\n",
      "\n",
      "Epoch 130\n",
      "Train: Loss = 0.2621, Acc = 0.9547\n",
      "Valid: Loss = 0.2962, Acc = 0.92\n",
      "\n",
      "Epoch 140\n",
      "Train: Loss = 0.2393, Acc = 0.9613\n",
      "Valid: Loss = 0.2759, Acc = 0.92\n",
      "\n",
      "Epoch 150\n",
      "Train: Loss = 0.2164, Acc = 0.964\n",
      "Valid: Loss = 0.2601, Acc = 0.92\n",
      "\n",
      "Epoch 160\n",
      "Train: Loss = 0.2011, Acc = 0.9653\n",
      "Valid: Loss = 0.2471, Acc = 0.92\n",
      "\n",
      "Epoch 170\n",
      "Train: Loss = 0.1854, Acc = 0.966\n",
      "Valid: Loss = 0.2361, Acc = 0.916\n",
      "\n",
      "Epoch 180\n",
      "Train: Loss = 0.1699, Acc = 0.9667\n",
      "Valid: Loss = 0.2268, Acc = 0.918\n",
      "\n",
      "Epoch 190\n",
      "Train: Loss = 0.1587, Acc = 0.968\n",
      "Valid: Loss = 0.2198, Acc = 0.922\n",
      "\n",
      "Epoch 200\n",
      "Train: Loss = 0.1485, Acc = 0.9707\n",
      "Valid: Loss = 0.2133, Acc = 0.918\n",
      "\n",
      "Epoch 210\n",
      "Train: Loss = 0.1386, Acc = 0.9733\n",
      "Valid: Loss = 0.208, Acc = 0.92\n",
      "\n",
      "Epoch 220\n",
      "Train: Loss = 0.1311, Acc = 0.9773\n",
      "Valid: Loss = 0.2038, Acc = 0.924\n",
      "\n",
      "Epoch 230\n",
      "Train: Loss = 0.1235, Acc = 0.976\n",
      "Valid: Loss = 0.2, Acc = 0.924\n",
      "\n",
      "Epoch 240\n",
      "Train: Loss = 0.1159, Acc = 0.9813\n",
      "Valid: Loss = 0.1967, Acc = 0.928\n",
      "\n",
      "Epoch 250\n",
      "Train: Loss = 0.1133, Acc = 0.9813\n",
      "Valid: Loss = 0.1933, Acc = 0.924\n",
      "\n",
      "Epoch 260\n",
      "Train: Loss = 0.1053, Acc = 0.9827\n",
      "Valid: Loss = 0.1915, Acc = 0.928\n",
      "\n",
      "Epoch 270\n",
      "Train: Loss = 0.09994, Acc = 0.984\n",
      "Valid: Loss = 0.1886, Acc = 0.928\n",
      "\n",
      "Epoch 280\n",
      "Train: Loss = 0.0967, Acc = 0.984\n",
      "Valid: Loss = 0.1869, Acc = 0.928\n",
      "\n",
      "Epoch 290\n",
      "Train: Loss = 0.09352, Acc = 0.9853\n",
      "Valid: Loss = 0.1854, Acc = 0.93\n",
      "\n",
      "Epoch 300\n",
      "Train: Loss = 0.08881, Acc = 0.988\n",
      "Valid: Loss = 0.184, Acc = 0.93\n",
      "\n",
      "Epoch 310\n",
      "Train: Loss = 0.08316, Acc = 0.9887\n",
      "Valid: Loss = 0.183, Acc = 0.93\n",
      "\n",
      "Epoch 320\n",
      "Train: Loss = 0.07951, Acc = 0.9907\n",
      "Valid: Loss = 0.1816, Acc = 0.928\n",
      "\n",
      "Epoch 330\n",
      "Train: Loss = 0.07802, Acc = 0.9907\n",
      "Valid: Loss = 0.1803, Acc = 0.926\n",
      "\n",
      "Epoch 340\n",
      "Train: Loss = 0.07286, Acc = 0.9927\n",
      "Valid: Loss = 0.1809, Acc = 0.928\n",
      "\n",
      "Epoch 350\n",
      "Train: Loss = 0.06903, Acc = 0.9933\n",
      "Valid: Loss = 0.1798, Acc = 0.926\n",
      "\n",
      "Epoch 360\n",
      "Train: Loss = 0.06773, Acc = 0.994\n",
      "Valid: Loss = 0.1792, Acc = 0.928\n",
      "\n",
      "Epoch 370\n",
      "Train: Loss = 0.06546, Acc = 0.994\n",
      "Valid: Loss = 0.1784, Acc = 0.928\n",
      "\n",
      "Epoch 380\n",
      "Train: Loss = 0.06209, Acc = 0.996\n",
      "Valid: Loss = 0.1787, Acc = 0.928\n",
      "\n",
      "Epoch 390\n",
      "Train: Loss = 0.06009, Acc = 0.9947\n",
      "Valid: Loss = 0.1778, Acc = 0.93\n",
      "\n",
      "Epoch 400\n",
      "Train: Loss = 0.05777, Acc = 0.9953\n",
      "Valid: Loss = 0.1775, Acc = 0.928\n",
      "\n",
      "Epoch 410\n",
      "Train: Loss = 0.05427, Acc = 0.996\n",
      "Valid: Loss = 0.1778, Acc = 0.93\n",
      "\n",
      "Epoch 420\n",
      "Train: Loss = 0.05356, Acc = 0.9967\n",
      "Valid: Loss = 0.1772, Acc = 0.926\n",
      "\n",
      "Epoch 430\n",
      "Train: Loss = 0.05142, Acc = 0.9973\n",
      "Valid: Loss = 0.1767, Acc = 0.928\n",
      "\n",
      "Epoch 440\n",
      "Train: Loss = 0.05103, Acc = 0.9987\n",
      "Valid: Loss = 0.1769, Acc = 0.926\n",
      "\n",
      "Epoch 450\n",
      "Train: Loss = 0.04735, Acc = 0.9993\n",
      "Valid: Loss = 0.1777, Acc = 0.928\n",
      "\n",
      "Epoch 460\n",
      "Train: Loss = 0.04701, Acc = 0.998\n",
      "Valid: Loss = 0.178, Acc = 0.928\n",
      "\n",
      "Epoch 470\n",
      "Train: Loss = 0.04526, Acc = 0.9993\n",
      "Valid: Loss = 0.1785, Acc = 0.928\n",
      "\n",
      "Epoch 480\n",
      "Train: Loss = 0.04248, Acc = 0.9993\n",
      "Valid: Loss = 0.1777, Acc = 0.926\n",
      "\n",
      "Epoch 490\n",
      "Train: Loss = 0.04276, Acc = 0.9993\n",
      "Valid: Loss = 0.1776, Acc = 0.928\n",
      "\n"
     ]
    }
   ],
   "source": [
    "num_epochs = 500\n",
    "\n",
    "loss_train_hist = []\n",
    "loss_valid_hist = []\n",
    "\n",
    "acc_train_hist = []\n",
    "acc_valid_hist = []\n",
    "\n",
    "for epoch in range(num_epochs):\n",
    "  loss_train = AverageMeter()\n",
    "  acc_train = Accuracy(task=\"multiclass\", num_classes=4).to(device)\n",
    "  for i, (inputs, targets) in enumerate(train_dataloader):\n",
    "    inputs = inputs.to(device)\n",
    "    targets = targets.to(device)\n",
    "\n",
    "    outputs = model(inputs)\n",
    "    \n",
    "    loss = loss_fn(outputs, targets)\n",
    "\n",
    "    loss.backward()\n",
    "    optimizer.step()\n",
    "    optimizer.zero_grad()\n",
    "\n",
    "    loss_train.update(loss.item())\n",
    "    acc_train(outputs, targets)\n",
    "\n",
    "  with torch.no_grad():\n",
    "    loss_valid = AverageMeter()\n",
    "    acc_valid = Accuracy(task=\"multiclass\", num_classes=4).to(device)\n",
    "    for i, (inputs, targets) in enumerate(valid_dataloader):\n",
    "      inputs = inputs.to(device)\n",
    "      targets = targets.to(device)\n",
    "\n",
    "      outputs = model(inputs)\n",
    "      loss = loss_fn(outputs, targets)\n",
    "      \n",
    "      loss_valid.update(loss.item())\n",
    "      acc_valid(outputs, targets)\n",
    "\n",
    "  loss_train_hist.append(loss_train.avg)\n",
    "  loss_valid_hist.append(loss_valid.avg)\n",
    "\n",
    "  acc_train_hist.append(float(acc_train.compute()))\n",
    "  acc_valid_hist.append(float(acc_valid.compute()))\n",
    "\n",
    "  if epoch % 10 == 0:\n",
    "    print(f'Epoch {epoch}')\n",
    "    print(f'Train: Loss = {loss_train.avg:.4}, Acc = {float(acc_train.compute()):.4}')\n",
    "    print(f'Valid: Loss = {loss_valid.avg:.4}, Acc = {float(acc_valid.compute()):.4}')\n",
    "    print()"
   ]
  },
  {
   "cell_type": "markdown",
   "id": "65dd53fa",
   "metadata": {},
   "source": [
    "## Visualize Loss And Accuracy"
   ]
  },
  {
   "cell_type": "code",
   "execution_count": 12,
   "id": "55402636",
   "metadata": {},
   "outputs": [
    {
     "data": {
      "text/plain": [
       "<matplotlib.legend.Legend at 0x19923f90690>"
      ]
     },
     "execution_count": 12,
     "metadata": {},
     "output_type": "execute_result"
    },
    {
     "data": {
      "image/png": "[encoded data removed]",
      "text/plain": [
       "<Figure size 640x480 with 1 Axes>"
      ]
     },
     "metadata": {},
     "output_type": "display_data"
    }
   ],
   "source": [
    "plt.plot(loss_train_hist , label = 'loss train' )\n",
    "plt.plot(loss_valid_hist, label = 'loss validation')\n",
    "\n",
    "plt.xlabel('Epoch')\n",
    "plt.ylabel('Loss')\n",
    "plt.grid(True)\n",
    "plt.legend()"
   ]
  },
  {
   "cell_type": "code",
   "execution_count": 13,
   "id": "5690d41f",
   "metadata": {},
   "outputs": [
    {
     "data": {
      "text/plain": [
       "<matplotlib.legend.Legend at 0x1993a557150>"
      ]
     },
     "execution_count": 13,
     "metadata": {},
     "output_type": "execute_result"
    },
    {
     "data": {
      "image/png": "[encoded data removed]",
      "text/plain": [
       "<Figure size 640x480 with 1 Axes>"
      ]
     },
     "metadata": {},
     "output_type": "display_data"
    }
   ],
   "source": [
    "plt.plot(range(num_epochs), acc_train_hist, 'r-', label='Train')\n",
    "plt.plot(range(num_epochs), acc_valid_hist, 'b-', label='Validation')\n",
    "\n",
    "plt.xlabel('Epoch')\n",
    "plt.ylabel('Acc')\n",
    "plt.grid(True)\n",
    "plt.legend()"
   ]
  },
  {
   "cell_type": "markdown",
   "id": "e6fc59c2",
   "metadata": {},
   "source": [
    "## Save Model"
   ]
  },
  {
   "cell_type": "code",
   "execution_count": 14,
   "id": "4c1178e0",
   "metadata": {},
   "outputs": [],
   "source": [
    "torch.save(model, 'phone_price_range.pth')"
   ]
  },
  {
   "cell_type": "markdown",
   "id": "5f1f5051",
   "metadata": {},
   "source": [
    "## Loading And Testing Model  "
   ]
  },
  {
   "cell_type": "code",
   "execution_count": 15,
   "id": "c1a476e0",
   "metadata": {},
   "outputs": [
    {
     "name": "stderr",
     "output_type": "stream",
     "text": [
      "C:\\Users\\BEHRAD\\AppData\\Local\\Temp\\ipykernel_25268\\2472039404.py:1: FutureWarning: You are using `torch.load` with `weights_only=False` (the current default value), which uses the default pickle module implicitly. It is possible to construct malicious pickle data which will execute arbitrary code during unpickling (See https://github.com/pytorch/pytorch/blob/main/SECURITY.md#untrusted-models for more details). In a future release, the default value for `weights_only` will be flipped to `True`. This limits the functions that could be executed during unpickling. Arbitrary objects will no longer be allowed to be loaded via this mode unless they are explicitly allowlisted by the user via `torch.serialization.add_safe_globals`. We recommend you start setting `weights_only=True` for any use case where you don't have full control of the loaded file. Please open an issue on GitHub for any issues related to this experimental feature.\n",
      "  mymodel = torch.load('phone_price_range.pth')\n"
     ]
    }
   ],
   "source": [
    "mymodel = torch.load('phone_price_range.pth')\n"
   ]
  },
  {
   "cell_type": "code",
   "execution_count": 16,
   "id": "d5d4731e",
   "metadata": {},
   "outputs": [
    {
     "data": {
      "text/html": [
       "<div>\n",
       "<style scoped>\n",
       "    .dataframe tbody tr th:only-of-type {\n",
       "        vertical-align: middle;\n",
       "    }\n",
       "\n",
       "    .dataframe tbody tr th {\n",
       "        vertical-align: top;\n",
       "    }\n",
       "\n",
       "    .dataframe thead th {\n",
       "        text-align: right;\n",
       "    }\n",
       "</style>\n",
       "<table border=\"1\" class=\"dataframe\">\n",
       "  <thead>\n",
       "    <tr style=\"text-align: right;\">\n",
       "      <th></th>\n",
       "      <th>battery_power</th>\n",
       "      <th>blue</th>\n",
       "      <th>clock_speed</th>\n",
       "      <th>dual_sim</th>\n",
       "      <th>fc</th>\n",
       "      <th>four_g</th>\n",
       "      <th>int_memory</th>\n",
       "      <th>m_dep</th>\n",
       "      <th>mobile_wt</th>\n",
       "      <th>n_cores</th>\n",
       "      <th>...</th>\n",
       "      <th>px_height</th>\n",
       "      <th>px_width</th>\n",
       "      <th>ram</th>\n",
       "      <th>sc_h</th>\n",
       "      <th>sc_w</th>\n",
       "      <th>talk_time</th>\n",
       "      <th>three_g</th>\n",
       "      <th>touch_screen</th>\n",
       "      <th>wifi</th>\n",
       "      <th>price_range</th>\n",
       "    </tr>\n",
       "  </thead>\n",
       "  <tbody>\n",
       "    <tr>\n",
       "      <th>0</th>\n",
       "      <td>1043</td>\n",
       "      <td>1</td>\n",
       "      <td>1.8</td>\n",
       "      <td>1</td>\n",
       "      <td>14</td>\n",
       "      <td>0</td>\n",
       "      <td>5</td>\n",
       "      <td>0.1</td>\n",
       "      <td>193</td>\n",
       "      <td>3</td>\n",
       "      <td>...</td>\n",
       "      <td>226</td>\n",
       "      <td>1412</td>\n",
       "      <td>3476</td>\n",
       "      <td>12</td>\n",
       "      <td>7</td>\n",
       "      <td>2</td>\n",
       "      <td>0</td>\n",
       "      <td>1</td>\n",
       "      <td>0</td>\n",
       "      <td>3</td>\n",
       "    </tr>\n",
       "    <tr>\n",
       "      <th>1</th>\n",
       "      <td>841</td>\n",
       "      <td>1</td>\n",
       "      <td>0.5</td>\n",
       "      <td>1</td>\n",
       "      <td>4</td>\n",
       "      <td>1</td>\n",
       "      <td>61</td>\n",
       "      <td>0.8</td>\n",
       "      <td>191</td>\n",
       "      <td>5</td>\n",
       "      <td>...</td>\n",
       "      <td>746</td>\n",
       "      <td>857</td>\n",
       "      <td>3895</td>\n",
       "      <td>6</td>\n",
       "      <td>0</td>\n",
       "      <td>7</td>\n",
       "      <td>1</td>\n",
       "      <td>0</td>\n",
       "      <td>0</td>\n",
       "      <td>3</td>\n",
       "    </tr>\n",
       "    <tr>\n",
       "      <th>2</th>\n",
       "      <td>1807</td>\n",
       "      <td>1</td>\n",
       "      <td>2.8</td>\n",
       "      <td>0</td>\n",
       "      <td>1</td>\n",
       "      <td>0</td>\n",
       "      <td>27</td>\n",
       "      <td>0.9</td>\n",
       "      <td>186</td>\n",
       "      <td>3</td>\n",
       "      <td>...</td>\n",
       "      <td>1270</td>\n",
       "      <td>1366</td>\n",
       "      <td>2396</td>\n",
       "      <td>17</td>\n",
       "      <td>10</td>\n",
       "      <td>10</td>\n",
       "      <td>0</td>\n",
       "      <td>1</td>\n",
       "      <td>1</td>\n",
       "      <td>3</td>\n",
       "    </tr>\n",
       "    <tr>\n",
       "      <th>3</th>\n",
       "      <td>1546</td>\n",
       "      <td>0</td>\n",
       "      <td>0.5</td>\n",
       "      <td>1</td>\n",
       "      <td>18</td>\n",
       "      <td>1</td>\n",
       "      <td>25</td>\n",
       "      <td>0.5</td>\n",
       "      <td>96</td>\n",
       "      <td>8</td>\n",
       "      <td>...</td>\n",
       "      <td>295</td>\n",
       "      <td>1752</td>\n",
       "      <td>3893</td>\n",
       "      <td>10</td>\n",
       "      <td>0</td>\n",
       "      <td>7</td>\n",
       "      <td>1</td>\n",
       "      <td>1</td>\n",
       "      <td>0</td>\n",
       "      <td>3</td>\n",
       "    </tr>\n",
       "    <tr>\n",
       "      <th>4</th>\n",
       "      <td>1434</td>\n",
       "      <td>0</td>\n",
       "      <td>1.4</td>\n",
       "      <td>0</td>\n",
       "      <td>11</td>\n",
       "      <td>1</td>\n",
       "      <td>49</td>\n",
       "      <td>0.5</td>\n",
       "      <td>108</td>\n",
       "      <td>6</td>\n",
       "      <td>...</td>\n",
       "      <td>749</td>\n",
       "      <td>810</td>\n",
       "      <td>1773</td>\n",
       "      <td>15</td>\n",
       "      <td>8</td>\n",
       "      <td>7</td>\n",
       "      <td>1</td>\n",
       "      <td>0</td>\n",
       "      <td>1</td>\n",
       "      <td>1</td>\n",
       "    </tr>\n",
       "  </tbody>\n",
       "</table>\n",
       "<p>5 rows × 21 columns</p>\n",
       "</div>"
      ],
      "text/plain": [
       "   battery_power  blue  clock_speed  dual_sim  fc  four_g  int_memory  m_dep  \\\n",
       "0           1043     1          1.8         1  14       0           5    0.1   \n",
       "1            841     1          0.5         1   4       1          61    0.8   \n",
       "2           1807     1          2.8         0   1       0          27    0.9   \n",
       "3           1546     0          0.5         1  18       1          25    0.5   \n",
       "4           1434     0          1.4         0  11       1          49    0.5   \n",
       "\n",
       "   mobile_wt  n_cores  ...  px_height  px_width   ram  sc_h  sc_w  talk_time  \\\n",
       "0        193        3  ...        226      1412  3476    12     7          2   \n",
       "1        191        5  ...        746       857  3895     6     0          7   \n",
       "2        186        3  ...       1270      1366  2396    17    10         10   \n",
       "3         96        8  ...        295      1752  3893    10     0          7   \n",
       "4        108        6  ...        749       810  1773    15     8          7   \n",
       "\n",
       "   three_g  touch_screen  wifi  price_range  \n",
       "0        0             1     0            3  \n",
       "1        1             0     0            3  \n",
       "2        0             1     1            3  \n",
       "3        1             1     0            3  \n",
       "4        1             0     1            1  \n",
       "\n",
       "[5 rows x 21 columns]"
      ]
     },
     "execution_count": 16,
     "metadata": {},
     "output_type": "execute_result"
    }
   ],
   "source": [
    "df_test = df_test.drop(\"id\" , axis=1)\n",
    "df_test.head()"
   ]
  },
  {
   "cell_type": "code",
   "execution_count": 17,
   "id": "424088d8",
   "metadata": {},
   "outputs": [],
   "source": [
    "x = df_test.drop('price_range' , axis=1)\n",
    "y = df_test['price_range']"
   ]
  },
  {
   "cell_type": "code",
   "execution_count": 18,
   "id": "7e701794",
   "metadata": {},
   "outputs": [],
   "source": [
    "x_test = torch.FloatTensor(x.values)\n",
    "x_test  = (x_test - Mean) / Std\n",
    "x_test = x_test.to(device)\n",
    "y_test = torch.LongTensor(y.values).squeeze().to(device)"
   ]
  },
  {
   "cell_type": "code",
   "execution_count": 19,
   "id": "b4efae04",
   "metadata": {},
   "outputs": [
    {
     "name": "stdout",
     "output_type": "stream",
     "text": [
      "Test Accuracy: 0.872\n"
     ]
    }
   ],
   "source": [
    "y_hat_test = mymodel(x_test)\n",
    "acc_test = Accuracy(task=\"multiclass\", num_classes=4).to(device)\n",
    "test_accuracy = acc_test(y_hat_test, y_test)\n",
    "print(f'Test Accuracy: {test_accuracy:.4}')"
   ]
  }
 ],
 "metadata": {
  "kernelspec": {
   "display_name": "base",
   "language": "python",
   "name": "python3"
  },
  "language_info": {
   "codemirror_mode": {
    "name": "ipython",
    "version": 3
   },
   "file_extension": ".py",
   "mimetype": "text/x-python",
   "name": "python",
   "nbconvert_exporter": "python",
   "pygments_lexer": "ipython3",
   "version": "3.11.3"
  }
 },
 "nbformat": 4,
 "nbformat_minor": 5
}
